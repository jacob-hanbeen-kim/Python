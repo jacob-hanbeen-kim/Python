{
 "cells": [
  {
   "cell_type": "code",
   "execution_count": 47,
   "metadata": {},
   "outputs": [],
   "source": [
    "# create a class called Animal\n",
    "class Animal:\n",
    "    \n",
    "    # variables or functions/methods\n",
    "    numbOfLegs = None\n",
    "    eyeColor = None\n",
    "    hasWings = None\n",
    "    hasFur = None\n",
    "    habitat = None\n",
    "    \n",
    "    def __init__(self, numbLegs, color):\n",
    "        self.numbOfLegs = numbLegs\n",
    "        self.eyeColor = color\n",
    "        self.hasWings = False\n",
    "        self.hasFur = False\n",
    "        self.habitat = \"North America\"\n",
    "    \n",
    "    def getInfo(self):\n",
    "        print(\"This animal has \" + str(self.numbOfLegs) + \" legs and \" + self.eyeColor + \" colored eyes.\")"
   ]
  },
  {
   "cell_type": "code",
   "execution_count": 48,
   "metadata": {},
   "outputs": [],
   "source": [
    "cat = Animal(4, \"blue\")"
   ]
  },
  {
   "cell_type": "code",
   "execution_count": 49,
   "metadata": {},
   "outputs": [
    {
     "data": {
      "text/plain": [
       "4"
      ]
     },
     "execution_count": 49,
     "metadata": {},
     "output_type": "execute_result"
    }
   ],
   "source": [
    "cat.numbOfLegs"
   ]
  },
  {
   "cell_type": "code",
   "execution_count": 50,
   "metadata": {},
   "outputs": [
    {
     "data": {
      "text/plain": [
       "'blue'"
      ]
     },
     "execution_count": 50,
     "metadata": {},
     "output_type": "execute_result"
    }
   ],
   "source": [
    "cat.eyeColor"
   ]
  },
  {
   "cell_type": "code",
   "execution_count": 51,
   "metadata": {},
   "outputs": [
    {
     "name": "stdout",
     "output_type": "stream",
     "text": [
      "This animal has 4 legs and blue colored eyes.\n"
     ]
    }
   ],
   "source": [
    "cat.getInfo()"
   ]
  },
  {
   "cell_type": "code",
   "execution_count": 52,
   "metadata": {},
   "outputs": [
    {
     "data": {
      "text/plain": [
       "'North America'"
      ]
     },
     "execution_count": 52,
     "metadata": {},
     "output_type": "execute_result"
    }
   ],
   "source": [
    "cat.habitat"
   ]
  },
  {
   "cell_type": "code",
   "execution_count": 53,
   "metadata": {},
   "outputs": [
    {
     "data": {
      "text/plain": [
       "False"
      ]
     },
     "execution_count": 53,
     "metadata": {},
     "output_type": "execute_result"
    }
   ],
   "source": [
    "cat.hasWings"
   ]
  },
  {
   "cell_type": "code",
   "execution_count": 92,
   "metadata": {},
   "outputs": [],
   "source": [
    "# Write a class name Character\n",
    "# that has variables\n",
    "#  userId\n",
    "#  gender\n",
    "#  job\n",
    "#  level\n",
    "#  age\n",
    "\n",
    "# has functions\n",
    "# __init__(self) -> take in userId, gender, job, age. set the level to 1\n",
    "# attack(self) -> print [job] [userId] has hit someting! -> e.g. Magician awesomeEthanian has hit something!\n",
    "# levelUp(self) -> print Level up from [level] to [level + 1]\n",
    "# getInfo(self) -> print [level] [userId] is [gender], age [age], and job [job]\n",
    "\n",
    "class Character:\n",
    "    \n",
    "    userId = None\n",
    "    gender = None\n",
    "    job = None\n",
    "    level = None\n",
    "    age = None\n",
    "    \n",
    "    def __init__(self, userId, gender, job, age):\n",
    "        self.userId = userId\n",
    "        self.gender = gender\n",
    "        self.job = job\n",
    "        self.age = age\n",
    "        self.level = 1\n",
    "        \n",
    "    def attack(self):\n",
    "        print(self.job + \" \" + self.userId + \" has hit something!\")\n",
    "        \n",
    "    def levelUp(self):\n",
    "        print(\"You have leveled up from \" + str(self.level) + \" to \" + str(self.level + 1))\n",
    "        self.level += 1\n",
    "        \n",
    "    def getInfo(self):\n",
    "        print(\"Lvl. \" + str(self.level) + \" \" + self.userId + \" is \" + \n",
    "              self.gender + \", age \" + str(self.age) + \" and job \" + self.job)"
   ]
  },
  {
   "cell_type": "code",
   "execution_count": 90,
   "metadata": {},
   "outputs": [],
   "source": [
    "myCharacter = Character(\"coach\", \"male\", \"warrior\", 12)"
   ]
  },
  {
   "cell_type": "code",
   "execution_count": 56,
   "metadata": {},
   "outputs": [
    {
     "data": {
      "text/plain": [
       "'coach'"
      ]
     },
     "execution_count": 56,
     "metadata": {},
     "output_type": "execute_result"
    }
   ],
   "source": [
    "myCharacter.userId"
   ]
  },
  {
   "cell_type": "code",
   "execution_count": 58,
   "metadata": {},
   "outputs": [
    {
     "data": {
      "text/plain": [
       "'male'"
      ]
     },
     "execution_count": 58,
     "metadata": {},
     "output_type": "execute_result"
    }
   ],
   "source": [
    "myCharacter.gender"
   ]
  },
  {
   "cell_type": "code",
   "execution_count": 63,
   "metadata": {},
   "outputs": [
    {
     "data": {
      "text/plain": [
       "'warrior'"
      ]
     },
     "execution_count": 63,
     "metadata": {},
     "output_type": "execute_result"
    }
   ],
   "source": [
    "myCharacter.job"
   ]
  },
  {
   "cell_type": "code",
   "execution_count": 60,
   "metadata": {},
   "outputs": [
    {
     "data": {
      "text/plain": [
       "12"
      ]
     },
     "execution_count": 60,
     "metadata": {},
     "output_type": "execute_result"
    }
   ],
   "source": [
    "myCharacter.age"
   ]
  },
  {
   "cell_type": "code",
   "execution_count": 61,
   "metadata": {},
   "outputs": [
    {
     "data": {
      "text/plain": [
       "1"
      ]
     },
     "execution_count": 61,
     "metadata": {},
     "output_type": "execute_result"
    }
   ],
   "source": [
    "myCharacter.level"
   ]
  },
  {
   "cell_type": "code",
   "execution_count": 69,
   "metadata": {},
   "outputs": [
    {
     "name": "stdout",
     "output_type": "stream",
     "text": [
      "warrior coach has hit something!\n"
     ]
    }
   ],
   "source": [
    "myCharacter.attack()"
   ]
  },
  {
   "cell_type": "code",
   "execution_count": 85,
   "metadata": {},
   "outputs": [
    {
     "name": "stdout",
     "output_type": "stream",
     "text": [
      "You have leveled up from 1 to 2\n"
     ]
    }
   ],
   "source": [
    "myCharacter.levelUp()"
   ]
  },
  {
   "cell_type": "code",
   "execution_count": 91,
   "metadata": {},
   "outputs": [
    {
     "name": "stdout",
     "output_type": "stream",
     "text": [
      "Lvl. 1 coach is male, age 12 and job warrior\n"
     ]
    }
   ],
   "source": [
    "myCharacter.getInfo()"
   ]
  },
  {
   "cell_type": "code",
   "execution_count": null,
   "metadata": {},
   "outputs": [],
   "source": []
  }
 ],
 "metadata": {
  "kernelspec": {
   "display_name": "Python 3",
   "language": "python",
   "name": "python3"
  },
  "language_info": {
   "codemirror_mode": {
    "name": "ipython",
    "version": 3
   },
   "file_extension": ".py",
   "mimetype": "text/x-python",
   "name": "python",
   "nbconvert_exporter": "python",
   "pygments_lexer": "ipython3",
   "version": "3.7.4"
  }
 },
 "nbformat": 4,
 "nbformat_minor": 2
}
