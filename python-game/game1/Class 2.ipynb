{
 "cells": [
  {
   "cell_type": "markdown",
   "metadata": {},
   "source": [
    "## Class\n",
    "\n",
    "It's like a predefined template you can use over and over again.\n",
    "It's a way of encapsulating variables and functions in one place."
   ]
  },
  {
   "cell_type": "markdown",
   "metadata": {},
   "source": [
    "## Defining Class?\n",
    "\n",
    "class NameOfTheClass():"
   ]
  },
  {
   "cell_type": "markdown",
   "metadata": {},
   "source": [
    "## Example"
   ]
  },
  {
   "cell_type": "code",
   "execution_count": 41,
   "metadata": {},
   "outputs": [],
   "source": [
    "# this is defining the class User\n",
    "class User():\n",
    "    \n",
    "    userType = \"user\"\n",
    "    \n",
    "    # constructor - init => initialize\n",
    "    # self -> refers to the class User\n",
    "    def __init__(self, uid, pw, mail):\n",
    "        # taking in the local parameter and setting it to global variables\n",
    "        self.userId = uid\n",
    "        self.password = pw\n",
    "        self.email = mail\n",
    "        \n",
    "    # userId getter\n",
    "    def getUserId(self):\n",
    "        return self.userId\n",
    "    \n",
    "    # password getter\n",
    "    def getPassword(self):\n",
    "        return self.password\n",
    "    \n",
    "    # login function\n",
    "    def login(self, inputUserId, inputPassword):\n",
    "        if (inputUserId == self.userId and inputPassword == self.password):\n",
    "            print(\"Login successful!\")\n",
    "        else:\n",
    "            print(\"Failed Login. Please check your username and password\")\n",
    "            \n",
    "    # Gets the user type\n",
    "    def getUserType(self):\n",
    "        return self.userType"
   ]
  },
  {
   "cell_type": "code",
   "execution_count": 44,
   "metadata": {},
   "outputs": [],
   "source": [
    "# creating an instance of an user\n",
    "user1 = User(\"myUserName\", \"Password1\", \"myemail@google.com\")"
   ]
  },
  {
   "cell_type": "code",
   "execution_count": 45,
   "metadata": {},
   "outputs": [
    {
     "data": {
      "text/plain": [
       "'myUserName'"
      ]
     },
     "execution_count": 45,
     "metadata": {},
     "output_type": "execute_result"
    }
   ],
   "source": [
    "# call getUserId function of class User\n",
    "user1.getUserId()"
   ]
  },
  {
   "cell_type": "code",
   "execution_count": 46,
   "metadata": {},
   "outputs": [
    {
     "data": {
      "text/plain": [
       "'Password1'"
      ]
     },
     "execution_count": 46,
     "metadata": {},
     "output_type": "execute_result"
    }
   ],
   "source": [
    "user1.getPassword()"
   ]
  },
  {
   "cell_type": "code",
   "execution_count": 47,
   "metadata": {},
   "outputs": [
    {
     "name": "stdout",
     "output_type": "stream",
     "text": [
      "Failed Login. Please check your username and password\n"
     ]
    }
   ],
   "source": [
    "user1.login(\"myUser1\", \"pass1\")"
   ]
  },
  {
   "cell_type": "code",
   "execution_count": 48,
   "metadata": {},
   "outputs": [
    {
     "name": "stdout",
     "output_type": "stream",
     "text": [
      "Login successful!\n"
     ]
    }
   ],
   "source": [
    "user1.login(\"myUserName\", \"Password1\")"
   ]
  },
  {
   "cell_type": "markdown",
   "metadata": {},
   "source": [
    "## Inheritance\n",
    "\n",
    "It's like family tree. You have parent and child.\n",
    "Everything parent have child have. But not vise-versa"
   ]
  },
  {
   "cell_type": "code",
   "execution_count": 49,
   "metadata": {},
   "outputs": [],
   "source": [
    "# define subclass/child of superclass/parent User\n",
    "class Customer(User): # this EXTENDS class User.\n",
    "    # User is superclass of Customer\n",
    "    userType = \"customer\"\n",
    "    \n",
    "    def __init__(self, userId, password, email):\n",
    "        super().__init__(userId, password, email)"
   ]
  },
  {
   "cell_type": "code",
   "execution_count": 50,
   "metadata": {},
   "outputs": [],
   "source": [
    "customer1 = Customer(\"customer1\", \"password1\", \"customer@gmail.com\")"
   ]
  },
  {
   "cell_type": "code",
   "execution_count": 51,
   "metadata": {},
   "outputs": [
    {
     "data": {
      "text/plain": [
       "'password1'"
      ]
     },
     "execution_count": 51,
     "metadata": {},
     "output_type": "execute_result"
    }
   ],
   "source": [
    "customer1.getPassword()"
   ]
  },
  {
   "cell_type": "code",
   "execution_count": 52,
   "metadata": {},
   "outputs": [
    {
     "data": {
      "text/plain": [
       "'user'"
      ]
     },
     "execution_count": 52,
     "metadata": {},
     "output_type": "execute_result"
    }
   ],
   "source": [
    "user1.getUserType()"
   ]
  },
  {
   "cell_type": "code",
   "execution_count": 53,
   "metadata": {},
   "outputs": [
    {
     "data": {
      "text/plain": [
       "'customer'"
      ]
     },
     "execution_count": 53,
     "metadata": {},
     "output_type": "execute_result"
    }
   ],
   "source": [
    "customer1.getUserType()"
   ]
  },
  {
   "cell_type": "code",
   "execution_count": null,
   "metadata": {},
   "outputs": [],
   "source": []
  }
 ],
 "metadata": {
  "kernelspec": {
   "display_name": "Python 3",
   "language": "python",
   "name": "python3"
  },
  "language_info": {
   "codemirror_mode": {
    "name": "ipython",
    "version": 3
   },
   "file_extension": ".py",
   "mimetype": "text/x-python",
   "name": "python",
   "nbconvert_exporter": "python",
   "pygments_lexer": "ipython3",
   "version": "3.7.4"
  }
 },
 "nbformat": 4,
 "nbformat_minor": 2
}
