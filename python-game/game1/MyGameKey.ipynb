{
 "cells": [
  {
   "cell_type": "code",
   "execution_count": 1,
   "metadata": {},
   "outputs": [
    {
     "name": "stdout",
     "output_type": "stream",
     "text": [
      "pygame 1.9.6\n",
      "Hello from the pygame community. https://www.pygame.org/contribute.html\n"
     ]
    }
   ],
   "source": [
    "import pygame\n",
    "\n",
    "# Global constants\n",
    "\n",
    "# Colors\n",
    "BLACK = (0, 0, 0)\n",
    "WHITE = (255, 255, 255)\n",
    "RED = (255, 0, 0)\n",
    "GREEN = (0, 255, 0)\n",
    "BLUE = (0, 0, 255)\n",
    "\n",
    "# Screen Dimensions\n",
    "SCREEN_WIDTH = 800\n",
    "SCREEN_HEIGHT = 600\n",
    "\n",
    "\"\"\" Main Program\"\"\"\n",
    "def main():\n",
    "    # Initialize the pygame instance\n",
    "    pygame.init()\n",
    "    \n",
    "    # Set the height and width of the screen\n",
    "    size = [SCREEN_WIDTH, SCREEN_HEIGHT]\n",
    "    screen = pygame.display.set_mode(size)\n",
    "    \n",
    "    # Title of the game\n",
    "    pygame.display.set_caption(\"YOUR TITLE GOES HERE\")\n",
    "    \n",
    "    # Icon\n",
    "    icon = pygame.image.load(\"icon.png\")\n",
    "    pygame.display.set_icon(icon)\n",
    "    \n",
    "    # Player\n",
    "    playerImg = pygame.image.load(\"player.png\")\n",
    "    playerX = 370\n",
    "    playerY = 480\n",
    "    playerCoord = [playerX, playerY]\n",
    "    \n",
    "    # Ending conditions\n",
    "    done = False\n",
    "    \n",
    "    # Clock used to manage how fast the screen updates\n",
    "    clock = pygame.time.Clock()\n",
    "    \n",
    "    # ---- Game Loop ----\n",
    "    while not done:\n",
    "        # Iterate through the pygame events\n",
    "        for event in pygame.event.get():\n",
    "            if event.type == pygame.QUIT:\n",
    "                done = True\n",
    "        \n",
    "        # Change background color\n",
    "        screen.fill(GREEN)\n",
    "        \n",
    "        # Draw the Player !! make sure to draw after screen\n",
    "        screen.blit(playerImg, playerCoord)\n",
    "        \n",
    "        # Limit to 60 frames per second\n",
    "        clock.tick(60)\n",
    "        \n",
    "        # Update the screen\n",
    "        pygame.display.update()\n",
    "        \n",
    "    # Exit\n",
    "    pygame.quit()\n",
    "    exit()\n",
    "    \n",
    "if __name__ == \"__main__\":\n",
    "    main()"
   ]
  },
  {
   "cell_type": "code",
   "execution_count": null,
   "metadata": {},
   "outputs": [],
   "source": []
  }
 ],
 "metadata": {
  "kernelspec": {
   "display_name": "Python 3",
   "language": "python",
   "name": "python3"
  },
  "language_info": {
   "codemirror_mode": {
    "name": "ipython",
    "version": 3
   },
   "file_extension": ".py",
   "mimetype": "text/x-python",
   "name": "python",
   "nbconvert_exporter": "python",
   "pygments_lexer": "ipython3",
   "version": "3.7.4"
  }
 },
 "nbformat": 4,
 "nbformat_minor": 2
}
