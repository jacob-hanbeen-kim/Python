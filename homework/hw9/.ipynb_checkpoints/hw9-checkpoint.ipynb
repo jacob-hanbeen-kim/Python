{
 "cells": [
  {
   "cell_type": "markdown",
   "metadata": {},
   "source": [
    "# Practicing For Loop with List and Strings\n",
    "This notebook contains several practice problems you can work with to master for loop with list and string. After implementing each functions, try running the unit test below the function to see if you have implemented the function correctly."
   ]
  },
  {
   "cell_type": "markdown",
   "metadata": {},
   "source": [
    "## Practice 1\n",
    "- __Function Name__: _count_a_\n",
    "- __Parameter__: _text_ - a string of characters\n",
    "- __Return Value__: _count_ - integer value of how many \"a\" or \"A\" appeared in the inputted text\n",
    "- __Description:__ Iterate through the string and count how many times \"a\" appears in the string\n",
    "- __Hint:__ use _.lower()_ on the inputted text before you start counting for \"a\" or have if conditionals to check for both \"a\" and \"A\""
   ]
  },
  {
   "cell_type": "code",
   "execution_count": 8,
   "metadata": {},
   "outputs": [],
   "source": [
    "def count_a(text):\n",
    "    count = 0\n",
    "    # write you code below\n",
    "    \n",
    "    # end of the code\n",
    "    return count"
   ]
  },
  {
   "cell_type": "code",
   "execution_count": 12,
   "metadata": {},
   "outputs": [
    {
     "name": "stderr",
     "output_type": "stream",
     "text": [
      "test_1 (__main__.test_count_a) ... FAIL\n",
      "test_2 (__main__.test_count_a) ... ok\n",
      "test_3 (__main__.test_count_a) ... FAIL\n",
      "test_4 (__main__.test_count_a) ... FAIL\n",
      "test_5 (__main__.test_count_a) ... FAIL\n",
      "\n",
      "======================================================================\n",
      "FAIL: test_1 (__main__.test_count_a)\n",
      "----------------------------------------------------------------------\n",
      "Traceback (most recent call last):\n",
      "  File \"<ipython-input-12-70c4e7df94d5>\", line 6, in test_1\n",
      "    self.assertEqual(count_a(\"banana\"), 3)\n",
      "AssertionError: 0 != 3\n",
      "\n",
      "======================================================================\n",
      "FAIL: test_3 (__main__.test_count_a)\n",
      "----------------------------------------------------------------------\n",
      "Traceback (most recent call last):\n",
      "  File \"<ipython-input-12-70c4e7df94d5>\", line 10, in test_3\n",
      "    self.assertEqual(count_a(\"This is long sentence that have few a's in the sentence\"), 3)\n",
      "AssertionError: 0 != 3\n",
      "\n",
      "======================================================================\n",
      "FAIL: test_4 (__main__.test_count_a)\n",
      "----------------------------------------------------------------------\n",
      "Traceback (most recent call last):\n",
      "  File \"<ipython-input-12-70c4e7df94d5>\", line 12, in test_4\n",
      "    self.assertEqual(count_a(\"aaaaaaaaaa\"), 10)\n",
      "AssertionError: 0 != 10\n",
      "\n",
      "======================================================================\n",
      "FAIL: test_5 (__main__.test_count_a)\n",
      "----------------------------------------------------------------------\n",
      "Traceback (most recent call last):\n",
      "  File \"<ipython-input-12-70c4e7df94d5>\", line 14, in test_5\n",
      "    self.assertEqual(count_a(\"AaAaAaAaAa\"), 10)\n",
      "AssertionError: 0 != 10\n",
      "\n",
      "----------------------------------------------------------------------\n",
      "Ran 5 tests in 0.007s\n",
      "\n",
      "FAILED (failures=4)\n"
     ]
    },
    {
     "data": {
      "text/plain": [
       "<unittest.main.TestProgram at 0x10f584090>"
      ]
     },
     "execution_count": 12,
     "metadata": {},
     "output_type": "execute_result"
    }
   ],
   "source": [
    "import unittest\n",
    "\n",
    "class test_count_a(unittest.TestCase):\n",
    "\n",
    "    def test_1(self):\n",
    "        self.assertEqual(count_a(\"banana\"), 3)\n",
    "    def test_2(self):\n",
    "        self.assertEqual(count_a(\"Hello World!\"), 0)\n",
    "    def test_3(self):\n",
    "        self.assertEqual(count_a(\"This is long sentence that have few a's in the sentence\"), 3)\n",
    "    def test_4(self):\n",
    "        self.assertEqual(count_a(\"aaaaaaaaaa\"), 10)\n",
    "    def test_5(self):\n",
    "        self.assertEqual(count_a(\"AaAaAaAaAa\"), 10)\n",
    "        \n",
    "unittest.main(argv=[''], verbosity=2, exit=False)"
   ]
  },
  {
   "cell_type": "markdown",
   "metadata": {},
   "source": [
    "## Practice 2\n",
    "- __Function Name__: _remove_vowels_\n",
    "- __Parameter__: _text_ - a string of characters\n",
    "- __Return Value__: _modifiedText_ - string with vowels removed from the inputted text\n",
    "- __Description:__ Given a string, iterate through the string to remove the vowels. Use for loop to iterate through each string and see if the character is one of the vowels.\n",
    "- __Hint:__ I created variable _vowels_ for you, which is a string of all the vowels in the alphabet \"aeiouAEIOU\". Iterate through each character of the strgin and use _in_ operator to check if that character is in the string _vowels_. If it is not, concatenate it to the _modifiedText_ variable to create a new string with vowels removed"
   ]
  },
  {
   "cell_type": "code",
   "execution_count": 11,
   "metadata": {},
   "outputs": [],
   "source": [
    "def remove_vowels(text):\n",
    "    vowels = \"aeiouAEIOU\"\n",
    "    modifiedText = \"\"\n",
    "    # your code goes here\n",
    "    \n",
    "    # end of the code\n",
    "    return modifiedText"
   ]
  },
  {
   "cell_type": "code",
   "execution_count": 22,
   "metadata": {},
   "outputs": [
    {
     "ename": "NameError",
     "evalue": "name 'MyUnitTestClass' is not defined",
     "output_type": "error",
     "traceback": [
      "\u001b[0;31m---------------------------------------------------------------------------\u001b[0m",
      "\u001b[0;31mNameError\u001b[0m                                 Traceback (most recent call last)",
      "\u001b[0;32m<ipython-input-22-38546f2c166e>\u001b[0m in \u001b[0;36m<module>\u001b[0;34m\u001b[0m\n\u001b[1;32m     19\u001b[0m \u001b[0;34m\u001b[0m\u001b[0m\n\u001b[1;32m     20\u001b[0m \u001b[0msuite\u001b[0m \u001b[0;34m=\u001b[0m \u001b[0munittest\u001b[0m\u001b[0;34m.\u001b[0m\u001b[0mTestSuite\u001b[0m\u001b[0;34m(\u001b[0m\u001b[0;34m)\u001b[0m\u001b[0;34m\u001b[0m\u001b[0;34m\u001b[0m\u001b[0m\n\u001b[0;32m---> 21\u001b[0;31m \u001b[0msuite\u001b[0m\u001b[0;34m.\u001b[0m\u001b[0maddTest\u001b[0m\u001b[0;34m(\u001b[0m\u001b[0mMyUnitTestClass\u001b[0m\u001b[0;34m(\u001b[0m\u001b[0;34m'test_remove_vowels'\u001b[0m\u001b[0;34m)\u001b[0m\u001b[0;34m)\u001b[0m\u001b[0;34m\u001b[0m\u001b[0;34m\u001b[0m\u001b[0m\n\u001b[0m\u001b[1;32m     22\u001b[0m \u001b[0munittest\u001b[0m\u001b[0;34m.\u001b[0m\u001b[0mTextTestRunner\u001b[0m\u001b[0;34m(\u001b[0m\u001b[0;34m)\u001b[0m\u001b[0;34m.\u001b[0m\u001b[0mrun\u001b[0m\u001b[0;34m(\u001b[0m\u001b[0msuite\u001b[0m\u001b[0;34m)\u001b[0m\u001b[0;34m\u001b[0m\u001b[0;34m\u001b[0m\u001b[0m\n\u001b[1;32m     23\u001b[0m \u001b[0;31m#unittest.main(argv=['__main__.test_remove_vowels'], verbosity=2, exit=False)\u001b[0m\u001b[0;34m\u001b[0m\u001b[0;34m\u001b[0m\u001b[0;34m\u001b[0m\u001b[0m\n",
      "\u001b[0;31mNameError\u001b[0m: name 'MyUnitTestClass' is not defined"
     ]
    }
   ],
   "source": [
    "import unittest\n",
    "\n",
    "class test_remove_vowels(unittest.TestCase):\n",
    "\n",
    "    def test_1(self):\n",
    "        self.assertEqual(remove_vowels(\"banana\"), \"bnn\")\n",
    "    def test_2(self):\n",
    "        self.assertEqual(remove_vowels(\"Hello World!\"), \"Hll Wrld!\")\n",
    "    def test_3(self):\n",
    "        self.assertEqual(remove_vowels(\"This is long sentence that have few a's in the sentence\"), \"Ths s lng sntnc tht hv fw 's n th sntnc'\")\n",
    "    def test_4(self):\n",
    "        self.assertEqual(remove_vowels(\"aaaaaaaaaa\"), \"\")\n",
    "    def test_5(self):\n",
    "        self.assertEqual(remove_vowels(\"AaAaAaAaAa\"), \"\")\n",
    "    def test_6(self):\n",
    "        self.assertEqual(remove_vowels(\"compsci\"), \"cmpsc\")\n",
    "    def test_7(self):\n",
    "        self.assertEqual(remove_vowels(\"NaoCskI\"), \"NCsk\")\n",
    "\n",
    "if __name__ == '__main__':\n",
    "    loader = unittest.TestLoader()\n",
    "    suite = loader.loadTestsFromTestCase(test_remove_vowels)\n",
    "    suite = unittest.TestSuite(suite)\n",
    "\n",
    "    runner = unittest.TextTestRunner()\n",
    "    results = runner.run(big_suite)\n",
    "\n",
    "suite = unittest.TestSuite()\n",
    "suite.addTest(MyUnitTestClass('test_remove_vowels'))\n",
    "unittest.TextTestRunner().run(suite)\n",
    "#unittest.main(argv=['__main__.test_remove_vowels'], verbosity=2, exit=False)"
   ]
  },
  {
   "cell_type": "code",
   "execution_count": null,
   "metadata": {},
   "outputs": [],
   "source": []
  }
 ],
 "metadata": {
  "kernelspec": {
   "display_name": "Python 3",
   "language": "python",
   "name": "python3"
  },
  "language_info": {
   "codemirror_mode": {
    "name": "ipython",
    "version": 3
   },
   "file_extension": ".py",
   "mimetype": "text/x-python",
   "name": "python",
   "nbconvert_exporter": "python",
   "pygments_lexer": "ipython3",
   "version": "3.7.4"
  }
 },
 "nbformat": 4,
 "nbformat_minor": 2
}
