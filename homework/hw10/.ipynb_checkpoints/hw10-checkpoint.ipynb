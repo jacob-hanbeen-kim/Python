{
 "cells": [
  {
   "cell_type": "markdown",
   "metadata": {},
   "source": [
    "## Practice 1\n",
    "- Function Name: decrementNumber\n",
    "- Parameter:\n",
    "    - aString - a string the user enters\n",
    "- Return Value:\n",
    "    - newString\n",
    "- Description:\n",
    "    - Write a function that takes a string as a parameter. The function should ask the user to input a single positive integer. If the number is in the string, the function will replace it with that number decremented by one. The function will return this new string with the replacements. If the number is not in the string, the function will return the string “Try a different number.”\n",
    "- Example:\n",
    "    - Python>>>decrementNumber(\"There are 5290 feet in a mile.”)\n",
    "    - Input Box > 9\n",
    "    - “There are 5280 feet in a mile.”\n",
    "\n",
    "    - Python>>>decrementNumber(\"There are 377 days in 2016.”)\n",
    "    - Input Box > 7\n",
    "    - “There are 366 days in 2016.”\n",
    "\n",
    "    - Python>>>decrementNumber(\"There are 377 days in 2016.”)\n",
    "    - Input Box > 8\n",
    "    - “Try a different number.”"
   ]
  },
  {
   "cell_type": "code",
   "execution_count": null,
   "metadata": {},
   "outputs": [],
   "source": [
    "def decrementNumber(aString):\n",
    "    newString = \"\"\n",
    "    # Write your code here\n",
    "    \n",
    "    # end your code\n",
    "    return newString"
   ]
  },
  {
   "cell_type": "code",
   "execution_count": null,
   "metadata": {},
   "outputs": [],
   "source": []
  }
 ],
 "metadata": {
  "kernelspec": {
   "display_name": "Python 3",
   "language": "python",
   "name": "python3"
  },
  "language_info": {
   "codemirror_mode": {
    "name": "ipython",
    "version": 3
   },
   "file_extension": ".py",
   "mimetype": "text/x-python",
   "name": "python",
   "nbconvert_exporter": "python",
   "pygments_lexer": "ipython3",
   "version": "3.7.4"
  }
 },
 "nbformat": 4,
 "nbformat_minor": 2
}
