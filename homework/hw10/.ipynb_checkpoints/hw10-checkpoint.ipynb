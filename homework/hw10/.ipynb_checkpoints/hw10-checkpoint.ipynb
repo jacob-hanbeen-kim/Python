{
 "cells": [
  {
   "cell_type": "markdown",
   "metadata": {},
   "source": [
    "## Practice 1\n",
    "- Function Name: decrementNumber\n",
    "- Parameter:\n",
    "    - aString - a string the user enters\n",
    "- Return Value:\n",
    "    - newString\n",
    "- Description:\n",
    "    - Write a function that takes a string as a parameter. The function should ask the user to input a single positive integer. If the number is in the string, the function will replace it with that number decremented by one. The function will return this new string with the replacements. If the number is not in the string, the function will return the string “Try a different number.”\n",
    "- Example:\n",
    "    - Python>>>decrementNumber(\"There are 5290 feet in a mile.”)\n",
    "    - Input Box > 9\n",
    "    - “There are 5280 feet in a mile.”\n",
    "\n",
    "    - Python>>>decrementNumber(\"There are 377 days in 2016.”)\n",
    "    - Input Box > 7\n",
    "    - “There are 366 days in 2016.”\n",
    "\n",
    "    - Python>>>decrementNumber(\"There are 377 days in 2016.”)\n",
    "    - Input Box > 8\n",
    "    - “Try a different number.”"
   ]
  },
  {
   "cell_type": "code",
   "execution_count": 2,
   "metadata": {},
   "outputs": [],
   "source": [
    "def decrementNumber(aString):\n",
    "    newString = \"\"\n",
    "    # Write your code here\n",
    "    decrement = input(\"What number do you want to decrement? \")\n",
    "    for letter in aString:\n",
    "        if (decrement == letter):\n",
    "            newLetter = str(int(letter) - 1)\n",
    "    # end your code\n",
    "    return newString"
   ]
  },
  {
   "cell_type": "code",
   "execution_count": 3,
   "metadata": {},
   "outputs": [
    {
     "name": "stdout",
     "output_type": "stream",
     "text": [
      "T\n",
      "h\n",
      "e\n",
      "r\n",
      "e\n",
      " \n",
      "a\n",
      "r\n",
      "e\n",
      " \n",
      "4\n",
      " \n",
      "p\n",
      "e\n",
      "o\n",
      "p\n",
      "l\n",
      "e\n",
      " \n",
      "i\n",
      "n\n",
      " \n",
      "t\n",
      "h\n",
      "i\n",
      "s\n",
      " \n",
      "r\n",
      "o\n",
      "o\n",
      "m\n"
     ]
    },
    {
     "data": {
      "text/plain": [
       "''"
      ]
     },
     "execution_count": 3,
     "metadata": {},
     "output_type": "execute_result"
    }
   ],
   "source": [
    "# Test your code here\n",
    "decrementNumber(\"There are 4 people in this room\")"
   ]
  },
  {
   "cell_type": "code",
   "execution_count": null,
   "metadata": {},
   "outputs": [],
   "source": []
  }
 ],
 "metadata": {
  "kernelspec": {
   "display_name": "Python 3",
   "language": "python",
   "name": "python3"
  },
  "language_info": {
   "codemirror_mode": {
    "name": "ipython",
    "version": 3
   },
   "file_extension": ".py",
   "mimetype": "text/x-python",
   "name": "python",
   "nbconvert_exporter": "python",
   "pygments_lexer": "ipython3",
   "version": "3.7.4"
  }
 },
 "nbformat": 4,
 "nbformat_minor": 2
}
