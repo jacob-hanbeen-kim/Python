{
 "cells": [
  {
   "cell_type": "code",
   "execution_count": 9,
   "metadata": {},
   "outputs": [],
   "source": [
    "def shoppingCart(items):\n",
    "    count_apple = 0\n",
    "    count_meat = 0\n",
    "    count_milk = 0\n",
    "    \n",
    "    for x in items:\n",
    "        if (x == \"apple\"):\n",
    "            count_apple = count_apple + 1\n",
    "        elif(x == \"meat\"):\n",
    "            count_meat = count_meat + 1\n",
    "        elif(x == \"milk\"):\n",
    "            count_milk =   + 1\n",
    "        else:\n",
    "            print(x + \" is invalid item.\")\n",
    "            \n",
    "    print(\"The user bought \" + str(count_apple) + \" apples, \" +\n",
    "           str(count_meat) + \" meats, \" + str(count_milk) + \" milks.\")"
   ]
  },
  {
   "cell_type": "code",
   "execution_count": 10,
   "metadata": {},
   "outputs": [
    {
     "name": "stdout",
     "output_type": "stream",
     "text": [
      "The user bought 3 apples, 1 meats, 1 milks.\n"
     ]
    }
   ],
   "source": [
    "items = [\"apple\", \"apple\", \"meat\", \"apple\", \"milk\"]\n",
    "shoppingCart(items)"
   ]
  },
  {
   "cell_type": "code",
   "execution_count": null,
   "metadata": {},
   "outputs": [],
   "source": []
  }
 ],
 "metadata": {
  "kernelspec": {
   "display_name": "Python 3",
   "language": "python",
   "name": "python3"
  },
  "language_info": {
   "codemirror_mode": {
    "name": "ipython",
    "version": 3
   },
   "file_extension": ".py",
   "mimetype": "text/x-python",
   "name": "python",
   "nbconvert_exporter": "python",
   "pygments_lexer": "ipython3",
   "version": "3.7.4"
  }
 },
 "nbformat": 4,
 "nbformat_minor": 2
}
