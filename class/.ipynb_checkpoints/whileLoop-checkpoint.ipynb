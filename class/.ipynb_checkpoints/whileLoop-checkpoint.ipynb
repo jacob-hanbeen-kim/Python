{
 "cells": [
  {
   "cell_type": "markdown",
   "metadata": {},
   "source": [
    "## Practice 1\n",
    "- Function Name: __run_until_q__\n",
    "- Prameter: None\n",
    "- Return Value: None\n",
    "- Description: Write a program that takes in any value from the user and prints it out on the screen. The program should run until user inputs \"q\"\n",
    "- Hint: Condition should be while(input !=\"q\")"
   ]
  },
  {
   "cell_type": "code",
   "execution_count": null,
   "metadata": {},
   "outputs": [],
   "source": [
    "def run_until_q():\n",
    "    "
   ]
  },
  {
   "cell_type": "markdown",
   "metadata": {},
   "source": [
    "## Practice 2\n",
    "\n",
    "- Function Name: __average__\n",
    "- Prameter: None\n",
    "- Return Value: None\n",
    "- Description: Take 10 integers from keybaord (using input()) using loop and print their average value on the screen\n",
    "- Hint:\n",
    "    - Call input() inside of while loop\n",
    "    - Have counter = 0 that increments with condition counter < 10"
   ]
  },
  {
   "cell_type": "code",
   "execution_count": 1,
   "metadata": {},
   "outputs": [
    {
     "ename": "SyntaxError",
     "evalue": "unexpected EOF while parsing (<ipython-input-1-a07ea3666b16>, line 2)",
     "output_type": "error",
     "traceback": [
      "\u001b[0;36m  File \u001b[0;32m\"<ipython-input-1-a07ea3666b16>\"\u001b[0;36m, line \u001b[0;32m2\u001b[0m\n\u001b[0;31m    \u001b[0m\n\u001b[0m    ^\u001b[0m\n\u001b[0;31mSyntaxError\u001b[0m\u001b[0;31m:\u001b[0m unexpected EOF while parsing\n"
     ]
    }
   ],
   "source": [
    "def average():\n",
    "    "
   ]
  },
  {
   "cell_type": "markdown",
   "metadata": {},
   "source": [
    "## Practice 3\n",
    "- Function Name: __factorial__\n",
    "- Parameter: __numb__ - integer number to take factorial of\n",
    "- Return Value: None\n",
    "- Description: Use while loop to take factorial of the inputted number and print it\n",
    "- Hint:\n",
    "    - 5! = 5 * 4 * 3 * 2 * 1\n",
    "    - If numb is 5, while loop should decrement numb in while loop"
   ]
  },
  {
   "cell_type": "code",
   "execution_count": null,
   "metadata": {},
   "outputs": [],
   "source": [
    "def factorial():\n",
    "    "
   ]
  }
 ],
 "metadata": {
  "kernelspec": {
   "display_name": "Python 3",
   "language": "python",
   "name": "python3"
  },
  "language_info": {
   "codemirror_mode": {
    "name": "ipython",
    "version": 3
   },
   "file_extension": ".py",
   "mimetype": "text/x-python",
   "name": "python",
   "nbconvert_exporter": "python",
   "pygments_lexer": "ipython3",
   "version": "3.7.4"
  }
 },
 "nbformat": 4,
 "nbformat_minor": 2
}
