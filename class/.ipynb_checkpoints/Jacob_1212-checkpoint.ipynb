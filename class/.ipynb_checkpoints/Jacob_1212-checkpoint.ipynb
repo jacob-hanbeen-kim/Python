{
 "cells": [
  {
   "cell_type": "markdown",
   "metadata": {},
   "source": [
    "- Function Name_: countUp\n",
    "- Parameter_:\n",
    "    - start - an integer marking the starting number\n",
    "    - limit - an integer marking the maximum ending number\n",
    "    - increment - an integer marking the size of the increment\n",
    "- Return Value:\n",
    "    - None\n",
    "- Description:\n",
    "    - Write a function that takes in three parameters: a starting number, a limit (the maximum ending number), and an increment. The function must increment from the starting number until it is above the limit. The function must print out all the numbers that are less than or equal to the limit. The numbers should be printed IN THE SAME LINE SEPARATED BY COMMAS. It is okay if the output wraps around into a new line (the key is to print a single string).\n",
    "- Hint\n",
    "    - Use one print statement\n",
    "    - Use for loop with range function\n",
    "- Example:\n",
    "    - Python>>>countUp(22, 55, 5)\n",
    "    - 22,27,32,37,42,47,52\n",
    "\n",
    "    - Python>>>countUp(132, 492, 60)\n",
    "    - 132,192,252,312,372,432,492"
   ]
  },
  {
   "cell_type": "code",
   "execution_count": null,
   "metadata": {},
   "outputs": [],
   "source": [
    "def countUp(start, limit, increment):\n",
    "    sequence = \"\"\n",
    "    for numb in range(start, limit + 1, increment):\n",
    "        if (numb == limit):\n",
    "            sequence += str(numb)\n",
    "        else:\n",
    "            sequence += str(numb) + \",\"\n",
    "    \n",
    "    #print(sequence[:len(sequence) - 1])\n",
    "    print(sequence)"
   ]
  },
  {
   "cell_type": "code",
   "execution_count": null,
   "metadata": {},
   "outputs": [],
   "source": [
    "countUp(2,6,2)"
   ]
  },
  {
   "cell_type": "code",
   "execution_count": 1,
   "metadata": {},
   "outputs": [
    {
     "name": "stdout",
     "output_type": "stream",
     "text": [
      "0\n",
      "1\n",
      "2\n",
      "3\n",
      "4\n"
     ]
    }
   ],
   "source": [
    "a = 0\n",
    "while (a < 5): #5 <5\n",
    "    print(a) #print(4)\n",
    "    a += 1\n",
    "#0\n",
    "#1\n",
    "#2\n",
    "#3\n",
    "#4"
   ]
  },
  {
   "cell_type": "code",
   "execution_count": 4,
   "metadata": {},
   "outputs": [
    {
     "name": "stdout",
     "output_type": "stream",
     "text": [
      "15\n",
      "15\n"
     ]
    }
   ],
   "source": [
    "number = [1,2,3,4,5]\n",
    "sum = 0\n",
    "for num in number:\n",
    "    sum += num\n",
    "\n",
    "print(sum)\n",
    "\n",
    "\n",
    "i = 0\n",
    "sum = 0\n",
    "while i < len(number):\n",
    "    sum += number[i]\n",
    "    i += 1\n",
    "    \n",
    "print(sum)"
   ]
  },
  {
   "cell_type": "code",
   "execution_count": 6,
   "metadata": {},
   "outputs": [
    {
     "name": "stdout",
     "output_type": "stream",
     "text": [
      "Guess what my number is? 12\n",
      "WRONG!\n",
      "Guess what my number is? 13\n",
      "WRONG!\n",
      "Guess what my number is? 14\n",
      "WRONG!\n",
      "Guess what my number is? 15\n",
      "CORRECT!\n"
     ]
    }
   ],
   "source": [
    "guess = \"0\"\n",
    "myNumber = \"15\"\n",
    "while guess != myNumber:\n",
    "    guess = input(\"Guess what my number is? \")\n",
    "    if (guess != myNumber):\n",
    "        print(\"WRONG!\")\n",
    "        \n",
    "print(\"CORRECT!\")"
   ]
  },
  {
   "cell_type": "code",
   "execution_count": null,
   "metadata": {},
   "outputs": [],
   "source": []
  }
 ],
 "metadata": {
  "kernelspec": {
   "display_name": "Python 3",
   "language": "python",
   "name": "python3"
  },
  "language_info": {
   "codemirror_mode": {
    "name": "ipython",
    "version": 3
   },
   "file_extension": ".py",
   "mimetype": "text/x-python",
   "name": "python",
   "nbconvert_exporter": "python",
   "pygments_lexer": "ipython3",
   "version": "3.7.4"
  }
 },
 "nbformat": 4,
 "nbformat_minor": 2
}
