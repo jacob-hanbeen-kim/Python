{
 "cells": [
  {
   "cell_type": "markdown",
   "metadata": {},
   "source": [
    "## Practice 1\n",
    "- Function Name: decrementNumber\n",
    "- Parameter:\n",
    "    - aString - a string the user enters\n",
    "- Return Value:\n",
    "    - newString\n",
    "- Description:\n",
    "    - Write a function that takes a string as a parameter. The function should ask the user to input a single positive integer. If the number is in the string, the function will replace it with that number decremented by one. The function will return this new string with the replacements. If the number is not in the string, the function will return the string “Try a different number.”\n",
    "- Example:\n",
    "    - Python>>>decrementNumber(\"There are 5290 feet in a mile.”)\n",
    "    - Input Box > 9\n",
    "    - “There are 5280 feet in a mile.”\n",
    "\n",
    "    - Python>>>decrementNumber(\"There are 377 days in 2016.”)\n",
    "    - Input Box > 7\n",
    "    - “There are 366 days in 2016.”\n",
    "\n",
    "    - Python>>>decrementNumber(\"There are 377 days in 2016.”)\n",
    "    - Input Box > 8\n",
    "    - “Try a different number.”"
   ]
  },
  {
   "cell_type": "code",
   "execution_count": 6,
   "metadata": {},
   "outputs": [],
   "source": [
    "def decrementNumber(aString):\n",
    "    newString = \"\"\n",
    "    # Write your code here\n",
    "    decrement = input(\"What number do you want to decrement? \")\n",
    "    \n",
    "    if (decrement not in aString): ## \"5\" is not in \"The number 767\"\n",
    "        return \"Try a different number\"\n",
    "        \n",
    "    ## decrement = \"7\"\n",
    "    ## aString = \"The number 767\"\n",
    "    for letter in aString: # letter = \"6\"\n",
    "        if (decrement == letter): # \"7\" == \"7\" >> True\n",
    "            newString += str(int(letter) - 1) # newString = \"The number 66\" + \"6\" ==> \"The number 666\"\n",
    "            # str(int(letter) - 1)\n",
    "            # int(letter) -> int(\"7\") -> 7\n",
    "            # int(letter) - 1 ==> 7 - 1 ==> 6\n",
    "            # str(int(letter) - 1) ==> str(6) ==> \"6\"\n",
    "            # newString = newString + str(int(letter) - 1)\n",
    "        else:\n",
    "            newString += letter ## newString = \"The number \" + \"n\" = \"The number \"\n",
    "            \n",
    "    # end your code\n",
    "    return newString"
   ]
  },
  {
   "cell_type": "code",
   "execution_count": 9,
   "metadata": {},
   "outputs": [
    {
     "name": "stdout",
     "output_type": "stream",
     "text": [
      "What number do you want to decrement? 7\n"
     ]
    },
    {
     "data": {
      "text/plain": [
       "'The number 666'"
      ]
     },
     "execution_count": 9,
     "metadata": {},
     "output_type": "execute_result"
    }
   ],
   "source": [
    "# Test your code here\n",
    "decrementNumber(\"The number 767\")"
   ]
  },
  {
   "cell_type": "code",
   "execution_count": null,
   "metadata": {},
   "outputs": [],
   "source": []
  }
 ],
 "metadata": {
  "kernelspec": {
   "display_name": "Python 3",
   "language": "python",
   "name": "python3"
  },
  "language_info": {
   "codemirror_mode": {
    "name": "ipython",
    "version": 3
   },
   "file_extension": ".py",
   "mimetype": "text/x-python",
   "name": "python",
   "nbconvert_exporter": "python",
   "pygments_lexer": "ipython3",
   "version": "3.7.4"
  }
 },
 "nbformat": 4,
 "nbformat_minor": 2
}
