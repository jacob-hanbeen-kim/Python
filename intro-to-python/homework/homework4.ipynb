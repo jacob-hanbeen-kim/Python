{
 "cells": [
  {
   "cell_type": "markdown",
   "metadata": {},
   "source": [
    "# Homework4\n",
    "Fall is coming and weather is changing quickly. You are talking with friend and while you only know temperature by Fahrenheit, your friend only knows Celsius. Write a function that converts Fahrenheit to Celsius, and another function that converts Celsius to Fahrenheit.\n"
   ]
  },
  {
   "cell_type": "markdown",
   "metadata": {},
   "source": [
    "## Implementation"
   ]
  },
  {
   "cell_type": "markdown",
   "metadata": {},
   "source": [
    "### Part 1\n",
    "- Function Name: fahrenheitToCelsius\n",
    "- Parameter: temperature\n",
    "- Your task: Convert the input temperature to Celsius\n",
    "- Return: temperature in Celsius\n",
    "- Hint: C = (F - 32) * 5/9"
   ]
  },
  {
   "cell_type": "code",
   "execution_count": 3,
   "metadata": {},
   "outputs": [],
   "source": [
    "def fahrenheitToCelsius(temperature):\n",
    "    # ---- your code goes here ----\n",
    "    celsius = (temperature - 32) * 5/9\n",
    "    # -----------------------------\n",
    "    celsius = round(celsius, 2)\n",
    "    return celsius"
   ]
  },
  {
   "cell_type": "markdown",
   "metadata": {},
   "source": [
    "Try calling the function to see if it is returning value you expected it to"
   ]
  },
  {
   "cell_type": "code",
   "execution_count": 4,
   "metadata": {},
   "outputs": [
    {
     "name": "stdout",
     "output_type": "stream",
     "text": [
      "15.56\n"
     ]
    }
   ],
   "source": [
    "celsius = fahrenheitToCelsius(60)\n",
    "print(celsius)"
   ]
  },
  {
   "cell_type": "markdown",
   "metadata": {},
   "source": [
    "### Part 2\n",
    "- Function Name: celsiusToFahrenheit\n",
    "- Parameter: temperature\n",
    "- Your task: Convert the input temperature to Fahrenheit\n",
    "- Return: temperature in Fahrenheit\n",
    "- Hint: F = (C * 9/5) + 32"
   ]
  },
  {
   "cell_type": "code",
   "execution_count": 5,
   "metadata": {},
   "outputs": [],
   "source": [
    "def celsiusToFahrenheit(temperature):\n",
    "    # ---- your code goes here ----\n",
    "    fahrenheit = (temperature * 9/5) + 32\n",
    "    # -----------------------------\n",
    "    fahrenheit = round(fahrenheit, 2)\n",
    "    return fahrenheit"
   ]
  },
  {
   "cell_type": "markdown",
   "metadata": {},
   "source": [
    "Try calling the function to see if it is returning value you expected it to"
   ]
  },
  {
   "cell_type": "code",
   "execution_count": 6,
   "metadata": {},
   "outputs": [
    {
     "name": "stdout",
     "output_type": "stream",
     "text": [
      "32.0\n"
     ]
    }
   ],
   "source": [
    "fahrenheit = celsiusToFahrenheit(0)\n",
    "print(fahrenheit)"
   ]
  },
  {
   "cell_type": "markdown",
   "metadata": {},
   "source": [
    "## Unit Test\n",
    "Run the below code to test if your code is correct.\n",
    "You should see ... ok next to all test cases"
   ]
  },
  {
   "cell_type": "code",
   "execution_count": 7,
   "metadata": {},
   "outputs": [
    {
     "name": "stderr",
     "output_type": "stream",
     "text": [
      "test_celsiusToFahrenheit_0 (__main__.TestNotebook) ... ok\n",
      "test_celsiusToFahrenheit_23 (__main__.TestNotebook) ... ok\n",
      "test_celsiusToFahrenheit_8 (__main__.TestNotebook) ... ok\n",
      "test_fahrenheitToCelsius_100 (__main__.TestNotebook) ... ok\n",
      "test_fahrenheitToCelsius_32 (__main__.TestNotebook) ... ok\n",
      "test_fahrenheitToCelsius_80 (__main__.TestNotebook) ... ok\n",
      "\n",
      "----------------------------------------------------------------------\n",
      "Ran 6 tests in 0.005s\n",
      "\n",
      "OK\n"
     ]
    },
    {
     "data": {
      "text/plain": [
       "<unittest.main.TestProgram at 0x10a06e4d0>"
      ]
     },
     "execution_count": 7,
     "metadata": {},
     "output_type": "execute_result"
    }
   ],
   "source": [
    "import unittest\n",
    "\n",
    "class TestNotebook(unittest.TestCase):\n",
    "\n",
    "    def test_fahrenheitToCelsius_100(self):\n",
    "        self.assertEqual(fahrenheitToCelsius(100), 37.78)\n",
    "    def test_fahrenheitToCelsius_32(self):\n",
    "        self.assertEqual(fahrenheitToCelsius(32), 0.0)\n",
    "    def test_fahrenheitToCelsius_80(self):\n",
    "        self.assertEqual(fahrenheitToCelsius(80), 26.67)\n",
    "        \n",
    "    def test_celsiusToFahrenheit_0(self):\n",
    "        self.assertEqual(celsiusToFahrenheit(0), 32.0)\n",
    "    def test_celsiusToFahrenheit_8(self):\n",
    "        self.assertEqual(celsiusToFahrenheit(8), 46.4)\n",
    "    def test_celsiusToFahrenheit_23(self):\n",
    "        self.assertEqual(celsiusToFahrenheit(23), 73.4)\n",
    "\n",
    "\n",
    "\n",
    "unittest.main(argv=[''], verbosity=2, exit=False)"
   ]
  },
  {
   "cell_type": "code",
   "execution_count": null,
   "metadata": {},
   "outputs": [],
   "source": []
  }
 ],
 "metadata": {
  "kernelspec": {
   "display_name": "Python 3",
   "language": "python",
   "name": "python3"
  },
  "language_info": {
   "codemirror_mode": {
    "name": "ipython",
    "version": 3
   },
   "file_extension": ".py",
   "mimetype": "text/x-python",
   "name": "python",
   "nbconvert_exporter": "python",
   "pygments_lexer": "ipython3",
   "version": "3.7.4"
  }
 },
 "nbformat": 4,
 "nbformat_minor": 2
}
