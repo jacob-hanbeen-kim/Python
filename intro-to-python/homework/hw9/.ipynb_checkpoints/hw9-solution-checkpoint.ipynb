{
 "cells": [
  {
   "cell_type": "markdown",
   "metadata": {},
   "source": [
    "# Practicing For Loop with List and Strings\n",
    "This notebook contains several practice problems you can work with to master for loop with list and string. After implementing each functions, try running the unit test below the function to see if you have implemented the function correctly."
   ]
  },
  {
   "cell_type": "markdown",
   "metadata": {},
   "source": [
    "## Practice 1\n",
    "- __Function Name__: _count_a_\n",
    "- __Parameter__: _text_ - a string of characters\n",
    "- __Return Value__: _count_ - integer value of how many \"a\" or \"A\" appeared in the inputted text\n",
    "- __Description:__ Iterate through the string and count how many times \"a\" appears in the string\n",
    "- __Hint:__ use _.lower()_ on the inputted text before you start counting for \"a\" or have if conditionals to check for both \"a\" and \"A\""
   ]
  },
  {
   "cell_type": "code",
   "execution_count": null,
   "metadata": {},
   "outputs": [],
   "source": [
    "def count_a(text):\n",
    "    count = 0\n",
    "    # write you code below\n",
    "    for letter in text:\n",
    "        if (letter == \"a\"):\n",
    "            count++;\n",
    "    # end of the code\n",
    "    return count"
   ]
  },
  {
   "cell_type": "code",
   "execution_count": null,
   "metadata": {},
   "outputs": [],
   "source": [
    "# Test your codes here\n",
    "# count_a(\"banana\")"
   ]
  },
  {
   "cell_type": "code",
   "execution_count": null,
   "metadata": {},
   "outputs": [],
   "source": [
    "import unittest\n",
    "\n",
    "class test_count_a(unittest.TestCase):\n",
    "\n",
    "    def test_1(self):\n",
    "        self.assertEqual(count_a(\"banana\"), 3)\n",
    "    def test_2(self):\n",
    "        self.assertEqual(count_a(\"Hello World!\"), 0)\n",
    "    def test_3(self):\n",
    "        self.assertEqual(count_a(\"This is long sentence that have few a's in the sentence\"), 3)\n",
    "    def test_4(self):\n",
    "        self.assertEqual(count_a(\"aaaaaaaaaa\"), 10)\n",
    "    def test_5(self):\n",
    "        self.assertEqual(count_a(\"AaAaAaAaAa\"), 10)\n",
    "        \n",
    "if __name__ == '__main__':\n",
    "    loader = unittest.TestLoader()\n",
    "    suite = loader.loadTestsFromTestCase(test_count_a)\n",
    "    unittest.TextTestRunner(verbosity=2).run(suite)"
   ]
  },
  {
   "cell_type": "markdown",
   "metadata": {},
   "source": [
    "## Practice 2\n",
    "- __Function Name__: _remove_vowels_\n",
    "- __Parameter__: _text_ - a string of characters\n",
    "- __Return Value__: _modifiedText_ - string with vowels removed from the inputted text\n",
    "- __Description:__ Given a string, iterate through the string to remove the vowels. Use for loop to iterate through each string and see if the character is one of the vowels.\n",
    "- __Hint:__ I created variable _vowels_ for you, which is a string of all the vowels in the alphabet \"aeiouAEIOU\". Iterate through each character of the strgin and use _in_ operator to check if that character is in the string _vowels_. If it is not, concatenate it to the _modifiedText_ variable to create a new string with vowels removed"
   ]
  },
  {
   "cell_type": "code",
   "execution_count": 10,
   "metadata": {},
   "outputs": [],
   "source": [
    "def remove_vowels(text):\n",
    "    vowels = \"aeiouAEIOU\"\n",
    "    modifiedText = \"\"\n",
    "    # your code goes here\n",
    "    for letter in text:\n",
    "        if letter not in vowels: # checking if the letter is not vowel\n",
    "            modifiedText = modifiedText + letter\n",
    "    # end of the code\n",
    "    return modifiedText"
   ]
  },
  {
   "cell_type": "code",
   "execution_count": 13,
   "metadata": {},
   "outputs": [
    {
     "data": {
      "text/plain": [
       "\"Ths s lng sntnc tht hv fw 's n th sntnc\""
      ]
     },
     "execution_count": 13,
     "metadata": {},
     "output_type": "execute_result"
    }
   ],
   "source": [
    "# Test your codes here\n",
    "remove_vowels(\"This is long sentence that have few a's in the sentence\")"
   ]
  },
  {
   "cell_type": "code",
   "execution_count": 14,
   "metadata": {},
   "outputs": [
    {
     "name": "stderr",
     "output_type": "stream",
     "text": [
      "test_1 (__main__.test_remove_vowels) ... ok\n",
      "test_2 (__main__.test_remove_vowels) ... ok\n",
      "test_3 (__main__.test_remove_vowels) ... ok\n",
      "test_4 (__main__.test_remove_vowels) ... ok\n",
      "test_5 (__main__.test_remove_vowels) ... ok\n",
      "test_6 (__main__.test_remove_vowels) ... ok\n",
      "test_7 (__main__.test_remove_vowels) ... ok\n",
      "\n",
      "----------------------------------------------------------------------\n",
      "Ran 7 tests in 0.008s\n",
      "\n",
      "OK\n"
     ]
    }
   ],
   "source": [
    "import unittest\n",
    "\n",
    "class test_remove_vowels(unittest.TestCase):\n",
    "\n",
    "    def test_1(self):\n",
    "        self.assertEqual(remove_vowels(\"banana\"), \"bnn\")\n",
    "    def test_2(self):\n",
    "        self.assertEqual(remove_vowels(\"Hello World!\"), \"Hll Wrld!\")\n",
    "    def test_3(self):\n",
    "        self.assertEqual(remove_vowels(\"This is long sentence that have few a's in the sentence\"), \"Ths s lng sntnc tht hv fw 's n th sntnc\")\n",
    "    def test_4(self):\n",
    "        self.assertEqual(remove_vowels(\"aaaaaaaaaa\"), \"\")\n",
    "    def test_5(self):\n",
    "        self.assertEqual(remove_vowels(\"AaAaAaAaAa\"), \"\")\n",
    "    def test_6(self):\n",
    "        self.assertEqual(remove_vowels(\"compsci\"), \"cmpsc\")\n",
    "    def test_7(self):\n",
    "        self.assertEqual(remove_vowels(\"NaoCskI\"), \"NCsk\")\n",
    "\n",
    "if __name__ == '__main__':\n",
    "    loader = unittest.TestLoader()\n",
    "    suite = loader.loadTestsFromTestCase(test_remove_vowels)\n",
    "    unittest.TextTestRunner(verbosity=2).run(suite)"
   ]
  },
  {
   "cell_type": "markdown",
   "metadata": {},
   "source": [
    "## Practice 3\n",
    "- __Function Name__: _letter_space_\n",
    "- __Parameter__: _text_ - a string of characters\n",
    "- __Return Value__: _modifiedText_ - string that replaces all character that is not string to a space ' ' chracter\n",
    "- __Description:__ Given a string, iterate through the string to replace non alphabetical letter to a space. Use for loop to iterate through each string and see if the character is one of alphabet or not.\n",
    "- __Hint:__ use _.isalpha()_ function to see if the character is alphabet or not"
   ]
  },
  {
   "cell_type": "code",
   "execution_count": null,
   "metadata": {},
   "outputs": [],
   "source": [
    "def letter_space(text):\n",
    "    modifiedText = \"\"\n",
    "    # your code here\n",
    "    \n",
    "    # end of the code\n",
    "    return modifiedText"
   ]
  },
  {
   "cell_type": "code",
   "execution_count": null,
   "metadata": {},
   "outputs": [],
   "source": [
    "# Test your codes here"
   ]
  },
  {
   "cell_type": "code",
   "execution_count": null,
   "metadata": {},
   "outputs": [],
   "source": [
    "import unittest\n",
    "\n",
    "class test_letter_space(unittest.TestCase):\n",
    "    def test_1(self):\n",
    "        self.assertEqual(remove_vowels(\"November21\"), \"November  \")\n",
    "    def test_2(self):\n",
    "        self.assertEqual(remove_vowels(\"Hello@World.com\"), \"Hello World com\")\n",
    "    def test_3(self):\n",
    "        self.assertEqual(remove_vowels(\"2013\"), \"    \")\n",
    "\n",
    "if __name__ == '__main__':\n",
    "    loader = unittest.TestLoader()\n",
    "    suite = loader.loadTestsFromTestCase(test_letter_space)\n",
    "    unittest.TextTestRunner(verbosity=2).run(suite)"
   ]
  },
  {
   "cell_type": "markdown",
   "metadata": {},
   "source": [
    "## Practice 4\n",
    "- __Function Name__: _even_and_odd__\n",
    "- __Parameter__: None\n",
    "- __Return Value__:\n",
    "    - _even_ - list of even numbers\n",
    "    - _odd_ - list of odd numbers\n",
    "- __Description:__ using _range(1,101)_, make two list, one containing all even numbers and other containing all odd numbers\n",
    "- __Hint:__ use _.append(number)_ to append a number into the list"
   ]
  },
  {
   "cell_type": "code",
   "execution_count": null,
   "metadata": {},
   "outputs": [],
   "source": [
    "def even_and_odd():\n",
    "    even = []\n",
    "    odd = []\n",
    "    \n",
    "    for number in range(1,101):\n",
    "        # your code goes here \n",
    "        \n",
    "        # end code\n",
    "    \n",
    "    return even, odd"
   ]
  },
  {
   "cell_type": "code",
   "execution_count": null,
   "metadata": {},
   "outputs": [],
   "source": [
    "# Test your codes here"
   ]
  },
  {
   "cell_type": "code",
   "execution_count": 8,
   "metadata": {},
   "outputs": [
    {
     "name": "stderr",
     "output_type": "stream",
     "text": [
      "test_1 (__main__.test_even_and_odd) ... ERROR\n",
      "\n",
      "======================================================================\n",
      "ERROR: test_1 (__main__.test_even_and_odd)\n",
      "----------------------------------------------------------------------\n",
      "Traceback (most recent call last):\n",
      "  File \"<ipython-input-8-53284e5e5ffa>\", line 6, in test_1\n",
      "    self.assertEqual(even_and_odd(), ([2, 4, 6, 8, 10, 12, 14, 16, 18, 20, 22, 24, 26, 28, 30, 32, 34, 36, 38, 40, 42, 44, 46, 48, 50, 52, 54, 56, 58, 60, 62, 64, 66, 68, 70, 72, 74, 76, 78, 80, 82, 84, 86, 88, 90, 92, 94, 96, 98, 100],[1, 3, 5, 7, 9, 11, 13, 15, 17, 19, 21, 23, 25, 27, 29, 31, 33, 35, 37, 39, 41, 43, 45, 47, 49, 51, 53, 55, 57, 59, 61, 63, 65, 67, 69, 71, 73, 75, 77, 79, 81, 83, 85, 87, 89, 91, 93, 95, 97, 99]))\n",
      "NameError: name 'even_and_odd' is not defined\n",
      "\n",
      "----------------------------------------------------------------------\n",
      "Ran 1 test in 0.001s\n",
      "\n",
      "FAILED (errors=1)\n"
     ]
    }
   ],
   "source": [
    "import unittest\n",
    "\n",
    "class test_even_and_odd(unittest.TestCase):\n",
    "\n",
    "    def test_1(self):\n",
    "        self.assertEqual(even_and_odd(), ([2, 4, 6, 8, 10, 12, 14, 16, 18, 20, 22, 24, 26, 28, 30, 32, 34, 36, 38, 40, 42, 44, 46, 48, 50, 52, 54, 56, 58, 60, 62, 64, 66, 68, 70, 72, 74, 76, 78, 80, 82, 84, 86, 88, 90, 92, 94, 96, 98, 100],[1, 3, 5, 7, 9, 11, 13, 15, 17, 19, 21, 23, 25, 27, 29, 31, 33, 35, 37, 39, 41, 43, 45, 47, 49, 51, 53, 55, 57, 59, 61, 63, 65, 67, 69, 71, 73, 75, 77, 79, 81, 83, 85, 87, 89, 91, 93, 95, 97, 99]))\n",
    "\n",
    "if __name__ == '__main__':\n",
    "    loader = unittest.TestLoader()\n",
    "    suite = loader.loadTestsFromTestCase(test_even_and_odd)\n",
    "    unittest.TextTestRunner(verbosity=2).run(suite)"
   ]
  },
  {
   "cell_type": "markdown",
   "metadata": {},
   "source": [
    "## Practice 5\n",
    "- __Function Name__: _type_classfier_\n",
    "- __Parameter__: _items_ - list containing ints, strings, and floats\n",
    "- __Return Value__:\n",
    "    - _ints_ - list containing int value from original list\n",
    "    - _strings_ - list containing string value from original list\n",
    "    - _floats_ - list containing float value from original list\n",
    "- __Description:__ Iterate through the list of items and classify them into  three different list: ints, strings, floats.\n",
    "- __Hint:__ use _isinstance(item, type)_ to check if the item is specific type. Use _.append(item)_ function to append item to some list"
   ]
  },
  {
   "cell_type": "code",
   "execution_count": 4,
   "metadata": {},
   "outputs": [],
   "source": [
    "def type_classifier(items):\n",
    "    ints = []\n",
    "    strings = []\n",
    "    floats = []\n",
    "    # your code here\n",
    "    for item in items:\n",
    "        if isinstance(item, int):\n",
    "            ints.append(item)\n",
    "        elif isinstance(item, str):\n",
    "            strings.append(item)\n",
    "        elif isinstance(item, float):\n",
    "            floats.append(item)\n",
    "        else:\n",
    "            print(\"cannot classified the item: \", item)\n",
    "    # end code\n",
    "    \n",
    "    return ints, strings, floats"
   ]
  },
  {
   "cell_type": "code",
   "execution_count": 5,
   "metadata": {},
   "outputs": [
    {
     "data": {
      "text/plain": [
       "([1, 2], ['hi', 'world'], [0.5, 0.2])"
      ]
     },
     "execution_count": 5,
     "metadata": {},
     "output_type": "execute_result"
    }
   ],
   "source": [
    "# Test your codes here\n",
    "type_classifier([1,2,0.5,\"hi\", \"world\", 0.2])"
   ]
  },
  {
   "cell_type": "code",
   "execution_count": 6,
   "metadata": {},
   "outputs": [
    {
     "name": "stderr",
     "output_type": "stream",
     "text": [
      "test_1 (__main__.test_type_classifier) ... ok\n",
      "\n",
      "----------------------------------------------------------------------\n",
      "Ran 1 test in 0.001s\n",
      "\n",
      "OK\n"
     ]
    }
   ],
   "source": [
    "import unittest\n",
    "\n",
    "class test_type_classifier(unittest.TestCase):\n",
    "\n",
    "    def test_1(self):\n",
    "        self.assertEqual(type_classifier([1,\"hi\",0.5,10,3,\"hello\", 0.2]), ([1,10,3],[\"hi\", \"hello\"],[0.5, 0.2]))\n",
    "\n",
    "if __name__ == '__main__':\n",
    "    loader = unittest.TestLoader()\n",
    "    suite = loader.loadTestsFromTestCase(test_type_classifier)\n",
    "    unittest.TextTestRunner(verbosity=2).run(suite)"
   ]
  },
  {
   "cell_type": "markdown",
   "metadata": {},
   "source": [
    "## Practice 6\n",
    "- __Function Name__: _fizz_buzz__\n",
    "- __Parameter__: None\n",
    "- __Return Value__: None\n",
    "- __Description:__ Write a Python program which iterates the integers from 1 to 50.\n",
    "    - For multiples of three print \"Fizz\" instead of the number and\n",
    "    - For the multiples of five print \"Buzz\".\n",
    "    - For numbers which are multiples of both three and five print \"FizzBuzz\""
   ]
  },
  {
   "cell_type": "code",
   "execution_count": null,
   "metadata": {},
   "outputs": [],
   "source": [
    "def fizz_buzz():\n",
    "    for number in range(1,51):\n",
    "        # your code here\n",
    "        \n",
    "        # end here"
   ]
  },
  {
   "cell_type": "code",
   "execution_count": null,
   "metadata": {},
   "outputs": [],
   "source": [
    "# Test your codes here"
   ]
  },
  {
   "cell_type": "code",
   "execution_count": 7,
   "metadata": {},
   "outputs": [
    {
     "name": "stderr",
     "output_type": "stream",
     "text": [
      "test_1 (__main__.test_type_classifier) ... ERROR\n",
      "\n",
      "======================================================================\n",
      "ERROR: test_1 (__main__.test_type_classifier)\n",
      "----------------------------------------------------------------------\n",
      "Traceback (most recent call last):\n",
      "  File \"<ipython-input-7-dfbc0d18cb8a>\", line 13, in test_1\n",
      "    self.assert_stdout(\"Fizz\\nBuzz\\nFizz\\nFizz\\nBuzz\\nFizz\\nFizzBuzz\\nFizz\\nFizz\\nBuzz\\nFizz\\nFizz\\nBuzz\\nFizz\\nFizzBuzz\\nFizz\\nFizz\\nBuzz\\nFizz\\nFizz\\nBuzz\\nFizz\\nFizzBuzz\\nFizz\\nFizz\\nBuzz\\n\")\n",
      "  File \"/Users/jacobkim/miniconda2/envs/python_env/lib/python3.7/unittest/mock.py\", line 1209, in patched\n",
      "    return func(*args, **keywargs)\n",
      "  File \"<ipython-input-7-dfbc0d18cb8a>\", line 9, in assert_stdout\n",
      "    fizz_buzz()\n",
      "NameError: name 'fizz_buzz' is not defined\n",
      "\n",
      "----------------------------------------------------------------------\n",
      "Ran 1 test in 0.003s\n",
      "\n",
      "FAILED (errors=1)\n"
     ]
    }
   ],
   "source": [
    "import io\n",
    "import unittest\n",
    "import unittest.mock\n",
    "import sys\n",
    "\n",
    "class test_type_classifier(unittest.TestCase):\n",
    "    @unittest.mock.patch('sys.stdout', new_callable=io.StringIO)\n",
    "    def assert_stdout(self, expected_output, mock_stdout):\n",
    "        fizz_buzz()\n",
    "        self.assertEqual(mock_stdout.getvalue(), expected_output)\n",
    "\n",
    "    def test_1(self):\n",
    "        self.assert_stdout(\"Fizz\\nBuzz\\nFizz\\nFizz\\nBuzz\\nFizz\\nFizzBuzz\\nFizz\\nFizz\\nBuzz\\nFizz\\nFizz\\nBuzz\\nFizz\\nFizzBuzz\\nFizz\\nFizz\\nBuzz\\nFizz\\nFizz\\nBuzz\\nFizz\\nFizzBuzz\\nFizz\\nFizz\\nBuzz\\n\")\n",
    "\n",
    "if __name__ == '__main__':\n",
    "    loader = unittest.TestLoader()\n",
    "    suite = loader.loadTestsFromTestCase(test_type_classifier)\n",
    "    unittest.TextTestRunner(verbosity=2).run(suite)\n",
    "    sys.stdout = sys.__stdout__"
   ]
  },
  {
   "cell_type": "code",
   "execution_count": null,
   "metadata": {},
   "outputs": [],
   "source": []
  }
 ],
 "metadata": {
  "kernelspec": {
   "display_name": "Python 3",
   "language": "python",
   "name": "python3"
  },
  "language_info": {
   "codemirror_mode": {
    "name": "ipython",
    "version": 3
   },
   "file_extension": ".py",
   "mimetype": "text/x-python",
   "name": "python",
   "nbconvert_exporter": "python",
   "pygments_lexer": "ipython3",
   "version": "3.7.4"
  }
 },
 "nbformat": 4,
 "nbformat_minor": 2
}
