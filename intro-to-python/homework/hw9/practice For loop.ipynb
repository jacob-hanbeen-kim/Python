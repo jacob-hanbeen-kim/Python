{
 "cells": [
  {
   "cell_type": "code",
   "execution_count": 1,
   "metadata": {},
   "outputs": [],
   "source": [
    "def myFunction():\n",
    "    print(\"HI\")"
   ]
  },
  {
   "cell_type": "code",
   "execution_count": 2,
   "metadata": {},
   "outputs": [
    {
     "name": "stdout",
     "output_type": "stream",
     "text": [
      "HI\n"
     ]
    }
   ],
   "source": [
    "myFunction()"
   ]
  },
  {
   "cell_type": "code",
   "execution_count": 5,
   "metadata": {},
   "outputs": [
    {
     "name": "stdout",
     "output_type": "stream",
     "text": [
      "YUP\n",
      "NOPE\n"
     ]
    }
   ],
   "source": [
    "if (\"a\" in \"apple\" and \"l\" in \"apple\"):\n",
    "    print(\"YUP\")\n",
    "    \n",
    "if (\"al\" not in \"apple\"):\n",
    "    print(\"NOPE\")"
   ]
  },
  {
   "cell_type": "markdown",
   "metadata": {},
   "source": [
    "- Function Name: illuminatiConfirmed\n",
    "- Parameter:\n",
    "    - secretMsg - a string representing the message that may or may not be from the Illuminati\n",
    "- Return Value:\n",
    "    - None\n",
    "- Description:\n",
    "    - Write a function that takes a secret message and determines whether it was sent from the Illuminati. USE A FOR LOOP to determine whether there are three \\\\$ signs in the message. If there are three dollar signs, create a new string from the secret message in which you replace each \\\\$ sign with an “s”. Print this new string and then print “Illuminati Confirmed.” If there are no three dollar signs, print the original string. Then print “Probably not Illuminati.”\n",
    "- Test Cases:\n",
    "    - Python>>>illuminatiConfirmed(\"Let'\\\\$ meet at Jay Z'\\\\$ hou\\\\$e.”)\n",
    "    - Let’s meet at Jay Z’s house.\n",
    "    - Illuminati Confirmed.\n",
    "\n",
    "    - Python>>>illuminatiConfirmed(\"The shampoo costs \\\\$3.50”)\n",
    "    - The shampoo costs \\\\$3.50.\n",
    "    - Probably not Illuminati."
   ]
  },
  {
   "cell_type": "code",
   "execution_count": 8,
   "metadata": {},
   "outputs": [],
   "source": [
    "def illuminatiConfirmed(secretMsg):\n",
    "    # count how many $ using for loop\n",
    "    count = 0\n",
    "    for letter in secretMsg:\n",
    "        if (letter == \"$\"):\n",
    "            count += 1\n",
    "    \n",
    "    if (count == 3): # there is 3 $ signs\n",
    "        # create new msg\n",
    "        newMsg = \"\"\n",
    "        for letter in secretMsg:\n",
    "            if (letter == \"$\"):\n",
    "                newMsg += \"s\"\n",
    "            else:\n",
    "                newMsg += letter\n",
    "                \n",
    "        print(newMsg)\n",
    "        print(\"Illuminati Confirmed\")\n",
    "    else:\n",
    "        print(secretMsg)\n",
    "        print(\"Probably not Illuminati\")"
   ]
  },
  {
   "cell_type": "code",
   "execution_count": 9,
   "metadata": {},
   "outputs": [
    {
     "name": "stdout",
     "output_type": "stream",
     "text": [
      "Let's meet at Jay Z's house.\n",
      "Illuminati Confirmed\n"
     ]
    }
   ],
   "source": [
    "illuminatiConfirmed(\"Let'$ meet at Jay Z'$ hou$e.\")"
   ]
  },
  {
   "cell_type": "code",
   "execution_count": 10,
   "metadata": {},
   "outputs": [
    {
     "name": "stdout",
     "output_type": "stream",
     "text": [
      "The shampoo costs $3.50\n",
      "Probably not Illuminati\n"
     ]
    }
   ],
   "source": [
    "illuminatiConfirmed(\"The shampoo costs $3.50\")"
   ]
  },
  {
   "cell_type": "code",
   "execution_count": null,
   "metadata": {},
   "outputs": [],
   "source": [
    "git pull"
   ]
  }
 ],
 "metadata": {
  "kernelspec": {
   "display_name": "Python 3",
   "language": "python",
   "name": "python3"
  },
  "language_info": {
   "codemirror_mode": {
    "name": "ipython",
    "version": 3
   },
   "file_extension": ".py",
   "mimetype": "text/x-python",
   "name": "python",
   "nbconvert_exporter": "python",
   "pygments_lexer": "ipython3",
   "version": "3.7.4"
  }
 },
 "nbformat": 4,
 "nbformat_minor": 2
}
