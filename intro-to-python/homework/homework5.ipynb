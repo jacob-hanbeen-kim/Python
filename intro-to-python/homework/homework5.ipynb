{
 "cells": [
  {
   "cell_type": "markdown",
   "metadata": {},
   "source": [
    "# Homework5\n"
   ]
  },
  {
   "cell_type": "markdown",
   "metadata": {},
   "source": [
    "## Function Name: mixtapeFire\n",
    "\n",
    "__Parameters:__\n",
    "- timesPlayed – an integer representing the number of times people have listened to\n",
    "your mix tape.\n",
    "- rating – an integer value representing a user rating between 0 and 5.\n",
    "\n",
    "__Return Value:__\n",
    "- “Your mix tape is fire!”\n",
    "- or “You should quit the rap game.”\n",
    "- or “Invalid input. Try again.”\n",
    "\n",
    "__Test Cases:__\n",
    "- Python>>>mixtapeFire(1000, 4)\n",
    "“Your mix tape is fire!”\n",
    "- Python>>>mixtapeFire (1000, 6)\n",
    "“Invalid input. Try again.”\n",
    "- Python>>>mixtapeFire (600, 2)\n",
    "“You should quit the rap game.”\n",
    "\n",
    "__Description:__\n",
    "- Write a function that determines how fire is your mixtape. The user will enter the number\n",
    "of times the mixtape has been played and a rating that people have given it from 0-5.\n",
    "- If the number of times played is 1000 or greater AND the rating is 3 or greater, the\n",
    "function should return “Your mix tape is fire!”\n",
    "- If either of these categories are not met, the function should return “You should quit the rap game.”\n",
    "- Finally, if the rating is greater than 5, the function should return “Invalid input. Try again.” You may assume that the user will only enter positive integers. "
   ]
  },
  {
   "cell_type": "code",
   "execution_count": 1,
   "metadata": {},
   "outputs": [],
   "source": [
    "def mixtapeFire(timesPlayed, rating):\n",
    "    msg = \"\"\n",
    "    # ---- your code goes here ----\n",
    "    if (timesplayed is 1000 or greater and rating is 3 or greater): # if times played is 1000 or greater AND rating is 3 or greater\n",
    "        msg = \"Your mix tape is fire!\"\n",
    "    else:\n",
    "        msg = \"You should quit the rap game.\"\n",
    "    \n",
    "    if (rating is greater than 5): # if rating is greater than 5\n",
    "        msg = \"Invalid input. Try again.\"\n",
    "    # -----------------------------\n",
    "    return msg"
   ]
  },
  {
   "cell_type": "markdown",
   "metadata": {},
   "source": [
    "Try calling the function to see if it is returning value you expected it to"
   ]
  },
  {
   "cell_type": "code",
   "execution_count": 2,
   "metadata": {},
   "outputs": [
    {
     "name": "stdout",
     "output_type": "stream",
     "text": [
      "\n",
      "\n",
      "\n"
     ]
    }
   ],
   "source": [
    "message = mixtapeFire(1000, 4)\n",
    "print(message) #should print \"Your mix tape is fire!\"\n",
    "\n",
    "message = mixtapeFire(1000, 6)\n",
    "print(message) #should print \"Invalid input. Try again.\"\n",
    "\n",
    "message = mixtapeFire(600, 2)\n",
    "print(message) #should print \"You should quit the rap game.\""
   ]
  },
  {
   "cell_type": "markdown",
   "metadata": {},
   "source": [
    "# Unit Test\n",
    "Run the below code to test if your code is correct.\n",
    "You should see ... ok next to all test cases"
   ]
  },
  {
   "cell_type": "code",
   "execution_count": 3,
   "metadata": {},
   "outputs": [
    {
     "name": "stderr",
     "output_type": "stream",
     "text": [
      "test_mixtapeFire_1000_2 (__main__.TestNotebook) ... FAIL\n",
      "test_mixtapeFire_1000_4 (__main__.TestNotebook) ... FAIL\n",
      "test_mixtapeFire_1000_6 (__main__.TestNotebook) ... FAIL\n",
      "test_mixtapeFire_1500_3 (__main__.TestNotebook) ... FAIL\n",
      "test_mixtapeFire_300_7 (__main__.TestNotebook) ... FAIL\n",
      "test_mixtapeFire_400_5 (__main__.TestNotebook) ... FAIL\n",
      "test_mixtapeFire_600_2 (__main__.TestNotebook) ... FAIL\n",
      "\n",
      "======================================================================\n",
      "FAIL: test_mixtapeFire_1000_2 (__main__.TestNotebook)\n",
      "----------------------------------------------------------------------\n",
      "Traceback (most recent call last):\n",
      "  File \"<ipython-input-3-fbf16e0d3e16>\", line 17, in test_mixtapeFire_1000_2\n",
      "    self.assertEqual(mixtapeFire(1000, 2), \"You should quit the rap game.\")\n",
      "AssertionError: '' != 'You should quit the rap game.'\n",
      "+ You should quit the rap game.\n",
      "\n",
      "======================================================================\n",
      "FAIL: test_mixtapeFire_1000_4 (__main__.TestNotebook)\n",
      "----------------------------------------------------------------------\n",
      "Traceback (most recent call last):\n",
      "  File \"<ipython-input-3-fbf16e0d3e16>\", line 6, in test_mixtapeFire_1000_4\n",
      "    self.assertEqual(mixtapeFire(1000, 4), \"Your mix tape is fire!\")\n",
      "AssertionError: '' != 'Your mix tape is fire!'\n",
      "+ Your mix tape is fire!\n",
      "\n",
      "======================================================================\n",
      "FAIL: test_mixtapeFire_1000_6 (__main__.TestNotebook)\n",
      "----------------------------------------------------------------------\n",
      "Traceback (most recent call last):\n",
      "  File \"<ipython-input-3-fbf16e0d3e16>\", line 8, in test_mixtapeFire_1000_6\n",
      "    self.assertEqual(mixtapeFire(1000, 6), \"Invalid input. Try again.\")\n",
      "AssertionError: '' != 'Invalid input. Try again.'\n",
      "+ Invalid input. Try again.\n",
      "\n",
      "======================================================================\n",
      "FAIL: test_mixtapeFire_1500_3 (__main__.TestNotebook)\n",
      "----------------------------------------------------------------------\n",
      "Traceback (most recent call last):\n",
      "  File \"<ipython-input-3-fbf16e0d3e16>\", line 13, in test_mixtapeFire_1500_3\n",
      "    self.assertEqual(mixtapeFire(1500, 3), \"Your mix tape is fire!\")\n",
      "AssertionError: '' != 'Your mix tape is fire!'\n",
      "+ Your mix tape is fire!\n",
      "\n",
      "======================================================================\n",
      "FAIL: test_mixtapeFire_300_7 (__main__.TestNotebook)\n",
      "----------------------------------------------------------------------\n",
      "Traceback (most recent call last):\n",
      "  File \"<ipython-input-3-fbf16e0d3e16>\", line 15, in test_mixtapeFire_300_7\n",
      "    self.assertEqual(mixtapeFire(300, 7), \"Invalid input. Try again.\")\n",
      "AssertionError: '' != 'Invalid input. Try again.'\n",
      "+ Invalid input. Try again.\n",
      "\n",
      "======================================================================\n",
      "FAIL: test_mixtapeFire_400_5 (__main__.TestNotebook)\n",
      "----------------------------------------------------------------------\n",
      "Traceback (most recent call last):\n",
      "  File \"<ipython-input-3-fbf16e0d3e16>\", line 19, in test_mixtapeFire_400_5\n",
      "    self.assertEqual(mixtapeFire(400, 5), \"You should quit the rap game.\")\n",
      "AssertionError: '' != 'You should quit the rap game.'\n",
      "+ You should quit the rap game.\n",
      "\n",
      "======================================================================\n",
      "FAIL: test_mixtapeFire_600_2 (__main__.TestNotebook)\n",
      "----------------------------------------------------------------------\n",
      "Traceback (most recent call last):\n",
      "  File \"<ipython-input-3-fbf16e0d3e16>\", line 10, in test_mixtapeFire_600_2\n",
      "    self.assertEqual(mixtapeFire(600, 2), \"You should quit the rap game.\")\n",
      "AssertionError: '' != 'You should quit the rap game.'\n",
      "+ You should quit the rap game.\n",
      "\n",
      "----------------------------------------------------------------------\n",
      "Ran 7 tests in 0.007s\n",
      "\n",
      "FAILED (failures=7)\n"
     ]
    },
    {
     "data": {
      "text/plain": [
       "<unittest.main.TestProgram at 0x10c778d90>"
      ]
     },
     "execution_count": 3,
     "metadata": {},
     "output_type": "execute_result"
    }
   ],
   "source": [
    "import unittest\n",
    "\n",
    "class TestNotebook(unittest.TestCase):\n",
    "\n",
    "    def test_mixtapeFire_1000_4(self):\n",
    "        self.assertEqual(mixtapeFire(1000, 4), \"Your mix tape is fire!\")\n",
    "    def test_mixtapeFire_1000_6(self):\n",
    "        self.assertEqual(mixtapeFire(1000, 6), \"Invalid input. Try again.\")\n",
    "    def test_mixtapeFire_600_2(self):\n",
    "        self.assertEqual(mixtapeFire(600, 2), \"You should quit the rap game.\")\n",
    "    \n",
    "    def test_mixtapeFire_1500_3(self):\n",
    "        self.assertEqual(mixtapeFire(1500, 3), \"Your mix tape is fire!\")\n",
    "    def test_mixtapeFire_300_7(self):\n",
    "        self.assertEqual(mixtapeFire(300, 7), \"Invalid input. Try again.\")\n",
    "    def test_mixtapeFire_1000_2(self):\n",
    "        self.assertEqual(mixtapeFire(1000, 2), \"You should quit the rap game.\")\n",
    "    def test_mixtapeFire_400_5(self):\n",
    "        self.assertEqual(mixtapeFire(400, 5), \"You should quit the rap game.\")\n",
    "\n",
    "\n",
    "unittest.main(argv=[''], verbosity=2, exit=False)"
   ]
  },
  {
   "cell_type": "code",
   "execution_count": null,
   "metadata": {},
   "outputs": [],
   "source": []
  }
 ],
 "metadata": {
  "kernelspec": {
   "display_name": "Python 3",
   "language": "python",
   "name": "python3"
  },
  "language_info": {
   "codemirror_mode": {
    "name": "ipython",
    "version": 3
   },
   "file_extension": ".py",
   "mimetype": "text/x-python",
   "name": "python",
   "nbconvert_exporter": "python",
   "pygments_lexer": "ipython3",
   "version": "3.7.4"
  }
 },
 "nbformat": 4,
 "nbformat_minor": 2
}
