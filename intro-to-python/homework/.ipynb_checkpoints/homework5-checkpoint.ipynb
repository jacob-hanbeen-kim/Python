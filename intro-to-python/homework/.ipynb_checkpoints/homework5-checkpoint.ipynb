{
 "cells": [
  {
   "cell_type": "markdown",
   "metadata": {},
   "source": [
    "# Homework5\n"
   ]
  },
  {
   "cell_type": "markdown",
   "metadata": {},
   "source": [
    "## Function Name: mixtapeFire\n",
    "\n",
    "__Parameters:__\n",
    "- timesPlayed – an integer representing the number of times people have listened to\n",
    "your mix tape.\n",
    "- rating – an integer value representing a user rating between 0 and 5.\n",
    "\n",
    "__Return Value:__\n",
    "- “Your mix tape is fire!”\n",
    "- or “You should quit the rap game.”\n",
    "- or “Invalid input. Play again.”\n",
    "\n",
    "__Test Cases:__\n",
    "- Python>>>mixtapeFire(1000, 4)\n",
    "“Your mix tape is fire!”\n",
    "- Python>>>mixtapeFire (1000, 6)\n",
    "“Invalid input. Try again.”\n",
    "- Python>>>mixtapeFire (600, 2)\n",
    "“You should quit the rap game.”\n",
    "\n",
    "__Description:__\n",
    "- Write a function that determines how fire is your mixtape. The user will enter the number\n",
    "of times the mixtape has been played and a rating that people have given it from 0-5.\n",
    "- If the number of times played is 1000 or greater AND the rating is 3 or greater, the\n",
    "function should return “Your mix tape is fire!”\n",
    "- If either of these categories are not met, the function should return “You should quit the rap game.”\n",
    "- Finally, if the rating is greater than 5, the function should return “Invalid input. Try again.” You may assume that the user will only enter positive integers. "
   ]
  },
  {
   "cell_type": "code",
   "execution_count": null,
   "metadata": {},
   "outputs": [],
   "source": [
    "def mixtapeFire(timesPlayed, rating):\n",
    "    msg = \"\"\n",
    "    # ---- your code goes here ----\n",
    "    \n",
    "    # -----------------------------\n",
    "    return msg"
   ]
  },
  {
   "cell_type": "markdown",
   "metadata": {},
   "source": [
    "Try calling the function to see if it is returning value you expected it to"
   ]
  },
  {
   "cell_type": "code",
   "execution_count": null,
   "metadata": {},
   "outputs": [],
   "source": [
    "message = mixtapeFire(1000, 4)\n",
    "print(message) #should print \"Your mix tape is fire!\"\n",
    "\n",
    "message = mixtapeFire(1000, 6)\n",
    "print(message) #should print \"Invalid input. Try again.\"\n",
    "\n",
    "message = mixtapeFire(600, 2)\n",
    "print(message) #should print \"You should quit the rap game.\""
   ]
  },
  {
   "cell_type": "markdown",
   "metadata": {},
   "source": [
    "# Unit Test\n",
    "Run the below code to test if your code is correct.\n",
    "You should see ... ok next to all test cases"
   ]
  },
  {
   "cell_type": "code",
   "execution_count": null,
   "metadata": {},
   "outputs": [],
   "source": [
    "import unittest\n",
    "\n",
    "class TestNotebook(unittest.TestCase):\n",
    "\n",
    "    def test_mixtapeFire_1000_4(self):\n",
    "        self.assertEqual(mixtapeFire(1000, 4), \"Your mix tape is fire!\")\n",
    "    def test_mixtapeFire_1000_6(self):\n",
    "        self.assertEqual(mixtapeFire(1000, 6), \"Invalid input. Try again.\")\n",
    "    def test_mixtapeFire_600_2(self):\n",
    "        self.assertEqual(mixtapeFire(600, 2), \"You should quit the rap game.\")\n",
    "    \n",
    "    def test_mixtapeFire_1500_3(self):\n",
    "        self.assertEqual(mixtapeFire(1500, 3), \"Your mix tape is fire!\")\n",
    "    def test_mixtapeFire_300_7(self):\n",
    "        self.assertEqual(mixtapeFire(300, 7), \"Invalid input. Try again.\")\n",
    "    def test_mixtapeFire_1000_2(self):\n",
    "        self.assertEqual(mixtapeFire(1000, 2), \"You should quit the rap game.\")\n",
    "    def test_mixtapeFire_400_5(self):\n",
    "        self.assertEqual(mixtapeFire(400, 5), \"You should quit the rap game.\")\n",
    "\n",
    "\n",
    "unittest.main(argv=[''], verbosity=2, exit=False)"
   ]
  },
  {
   "cell_type": "code",
   "execution_count": null,
   "metadata": {},
   "outputs": [],
   "source": []
  }
 ],
 "metadata": {
  "kernelspec": {
   "display_name": "Python 3",
   "language": "python",
   "name": "python3"
  },
  "language_info": {
   "codemirror_mode": {
    "name": "ipython",
    "version": 3
   },
   "file_extension": ".py",
   "mimetype": "text/x-python",
   "name": "python",
   "nbconvert_exporter": "python",
   "pygments_lexer": "ipython3",
   "version": "3.7.4"
  }
 },
 "nbformat": 4,
 "nbformat_minor": 2
}
