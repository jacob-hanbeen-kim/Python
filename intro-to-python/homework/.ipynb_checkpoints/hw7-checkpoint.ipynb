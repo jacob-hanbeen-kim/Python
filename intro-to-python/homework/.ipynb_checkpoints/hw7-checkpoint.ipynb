{
 "cells": [
  {
   "cell_type": "code",
   "execution_count": 11,
   "metadata": {},
   "outputs": [
    {
     "name": "stdout",
     "output_type": "stream",
     "text": [
      "1.0\n"
     ]
    }
   ],
   "source": [
    "def multiply(numberList):\n",
    "    # numberList --> list of numbers\n",
    "    mult = 1\n",
    "    for n in numberList:\n",
    "        mult = mult * n\n",
    "        \n",
    "    return mult\n",
    "\n",
    "#numberList = [1,2,3,4]\n",
    "#numberList = [2,4,6,8]\n",
    "numberList = [0.5,2]\n",
    "print(multiply(numberList))"
   ]
  },
  {
   "cell_type": "code",
   "execution_count": 12,
   "metadata": {},
   "outputs": [
    {
     "data": {
      "text/plain": [
       "3"
      ]
     },
     "execution_count": 12,
     "metadata": {},
     "output_type": "execute_result"
    }
   ],
   "source": [
    "fruits = [\"apple\", \"banana\", \"melon\"]\n",
    "len(fruits)\n",
    "len([\"apple\", \"banana\", \"melon\"])"
   ]
  },
  {
   "cell_type": "code",
   "execution_count": 14,
   "metadata": {},
   "outputs": [],
   "source": [
    "# define a function called calculator\n",
    "# parameter:\n",
    "#    x - first number\n",
    "#    operator - string \"+\" or \"-\" or \"*\" or \"/\" or \"%\"\n",
    "#    y - second number\n",
    "# return:\n",
    "#   x operator y\n",
    "# example:\n",
    "#   calculator(2,\"+\",3) >> 5\n",
    "#   calculator(2,\"-\",3) >> -1\n",
    "#   calculator(2,\"*\",3) >> 6\n",
    "#   calculator(2,\"/\",3) >> 0.666666666667\n",
    "#   calculator(2,\"%\",3) >> 2"
   ]
  },
  {
   "cell_type": "code",
   "execution_count": 16,
   "metadata": {},
   "outputs": [
    {
     "name": "stdout",
     "output_type": "stream",
     "text": [
      "5\n",
      "-1\n",
      "6\n",
      "0.6666666666666666\n",
      "2\n"
     ]
    }
   ],
   "source": [
    "def calculator(x, operator, y):\n",
    "    if (operator == \"+\"):\n",
    "        return x + y\n",
    "    elif (operator == \"-\"):\n",
    "        return x - y\n",
    "    elif (operator == \"*\"):\n",
    "        return x * y\n",
    "    elif (operator == \"/\"):\n",
    "        return x / y\n",
    "    elif (operator == \"%\"):\n",
    "        return x % y\n",
    "    else:\n",
    "        return \"invalid operator\"\n",
    "\n",
    "\"\"\"\n",
    "print(calculator(2,\"+\",3))\n",
    "print(calculator(2,\"-\",3))\n",
    "print(calculator(2,\"*\",3))\n",
    "print(calculator(2,\"/\",3))\n",
    "print(calculator(2,\"%\",3))\n",
    "\"\"\""
   ]
  },
  {
   "cell_type": "code",
   "execution_count": 17,
   "metadata": {},
   "outputs": [],
   "source": [
    "\n",
    "def print_items(numbers):\n",
    "    for x in numbers:\n",
    "        print(x)\n",
    "    "
   ]
  },
  {
   "cell_type": "code",
   "execution_count": null,
   "metadata": {},
   "outputs": [],
   "source": [
    "def personalized_list():\n",
    "    myList = []\n",
    "    \n",
    "    value = input(\"Please enter a number to add to a list: \")\n",
    "    myList.append(value)\n",
    "    \n",
    "    print(\"Here is your personalized list:\",myList)"
   ]
  }
 ],
 "metadata": {
  "kernelspec": {
   "display_name": "Python 3",
   "language": "python",
   "name": "python3"
  },
  "language_info": {
   "codemirror_mode": {
    "name": "ipython",
    "version": 3
   },
   "file_extension": ".py",
   "mimetype": "text/x-python",
   "name": "python",
   "nbconvert_exporter": "python",
   "pygments_lexer": "ipython3",
   "version": "3.7.4"
  }
 },
 "nbformat": 4,
 "nbformat_minor": 2
}
