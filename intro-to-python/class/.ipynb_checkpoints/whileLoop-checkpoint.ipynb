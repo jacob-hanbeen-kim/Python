{
 "cells": [
  {
   "cell_type": "markdown",
   "metadata": {},
   "source": [
    "## Practice 1\n",
    "- Function Name: __run_until_q__\n",
    "- Prameter: None\n",
    "- Return Value: None\n",
    "- Description: Write a program that takes in any value from the user and prints it out on the screen. The program should run until user inputs \"q\"\n",
    "- Hint: Condition should be while(input !=\"q\")"
   ]
  },
  {
   "cell_type": "code",
   "execution_count": 4,
   "metadata": {},
   "outputs": [
    {
     "name": "stdout",
     "output_type": "stream",
     "text": [
      "Write any value: hi\n",
      "hi\n",
      "Write any value: q\n",
      "q\n",
      "Exited the loop\n"
     ]
    }
   ],
   "source": [
    "def run_until_q():\n",
    "    msg = \"\"\n",
    "    while (msg != \"q\"):\n",
    "        msg = input(\"Write any value: \")\n",
    "        print(msg)\n",
    "        \n",
    "    print(\"Exited the loop\")\n",
    "    \n",
    "run_until_q()"
   ]
  },
  {
   "cell_type": "markdown",
   "metadata": {},
   "source": [
    "## Practice 2\n",
    "\n",
    "- Function Name: __average__\n",
    "- Prameter: None\n",
    "- Return Value: None\n",
    "- Description: Take 10 integers from keybaord (using input()) using loop and print their average value on the screen\n",
    "- Hint:\n",
    "    - Call input() inside of while loop\n",
    "    - Have counter = 0 that increments with condition counter < 10"
   ]
  },
  {
   "cell_type": "code",
   "execution_count": 7,
   "metadata": {},
   "outputs": [
    {
     "name": "stdout",
     "output_type": "stream",
     "text": [
      "Write a number: 1\n",
      "Write a number: 2\n",
      "Write a number: 3\n",
      "Write a number: 4\n",
      "Write a number: 5\n",
      "Write a number: 6\n",
      "Write a number: 7\n",
      "Write a number: 8\n",
      "Write a number: 9\n",
      "Write a number: 10\n",
      "The average is 5.5\n"
     ]
    }
   ],
   "source": [
    "def average():\n",
    "    sum = 0\n",
    "    counter = 0\n",
    "    while (counter < 10):\n",
    "        counter += 1\n",
    "        numb = input(\"Write a number: \")\n",
    "        numb = int(numb)\n",
    "        sum += numb\n",
    "        \n",
    "    print(\"The average is \" + str(sum / 10))\n",
    "    \n",
    "average()"
   ]
  },
  {
   "cell_type": "markdown",
   "metadata": {},
   "source": [
    "## Practice 3\n",
    "- Function Name: __factorial__\n",
    "- Parameter: __numb__ - integer number to take factorial of\n",
    "- Return Value: None\n",
    "- Description: Use while loop to take factorial of the inputted number and print it\n",
    "- Hint:\n",
    "    - 5! = 5 * 4 * 3 * 2 * 1\n",
    "    - If numb is 5, while loop should decrement numb in while loop"
   ]
  },
  {
   "cell_type": "code",
   "execution_count": 8,
   "metadata": {},
   "outputs": [],
   "source": [
    "def factorial(numb): # numb = 5\n",
    "    fact = 1\n",
    "    while (numb > 0): # numb >= 1\n",
    "        fact *= numb\n",
    "        numb -= 1\n",
    "        \n",
    "    print(fact)"
   ]
  },
  {
   "cell_type": "code",
   "execution_count": 10,
   "metadata": {},
   "outputs": [
    {
     "name": "stdout",
     "output_type": "stream",
     "text": [
      "6\n"
     ]
    }
   ],
   "source": [
    "factorial(3)"
   ]
  },
  {
   "cell_type": "code",
   "execution_count": 12,
   "metadata": {},
   "outputs": [
    {
     "ename": "SyntaxError",
     "evalue": "invalid syntax (<ipython-input-12-5a986dc3ffa3>, line 8)",
     "output_type": "error",
     "traceback": [
      "\u001b[0;36m  File \u001b[0;32m\"<ipython-input-12-5a986dc3ffa3>\"\u001b[0;36m, line \u001b[0;32m8\u001b[0m\n\u001b[0;31m    elif (msg == \"q\")\u001b[0m\n\u001b[0m                     ^\u001b[0m\n\u001b[0;31mSyntaxError\u001b[0m\u001b[0;31m:\u001b[0m invalid syntax\n"
     ]
    }
   ],
   "source": [
    "def guessAge(age):\n",
    "    counter = 0\n",
    "    while(msg != \"q\" and counter < 6 and msg != age):\n",
    "        msg = input(\"Guess my age: \")\n",
    "        \n",
    "    if (counter == 6):\n",
    "        print(\"You have exceeded the number of tries\")\n",
    "    elif (msg == \"q\"):\n",
    "        print(\"Don't give up just because things are hard!\")\n",
    "    elif (msg == age):\n",
    "        print(\"Great job! It took you \" + str(counter) + \" tries to guess the age!\")\n",
    "    \n",
    "    print(\"Thank you for playing\")"
   ]
  },
  {
   "cell_type": "code",
   "execution_count": null,
   "metadata": {},
   "outputs": [],
   "source": []
  }
 ],
 "metadata": {
  "kernelspec": {
   "display_name": "Python 3",
   "language": "python",
   "name": "python3"
  },
  "language_info": {
   "codemirror_mode": {
    "name": "ipython",
    "version": 3
   },
   "file_extension": ".py",
   "mimetype": "text/x-python",
   "name": "python",
   "nbconvert_exporter": "python",
   "pygments_lexer": "ipython3",
   "version": "3.7.4"
  }
 },
 "nbformat": 4,
 "nbformat_minor": 2
}
